{
 "cells": [
  {
   "cell_type": "markdown",
   "metadata": {},
   "source": [
    "### Exercise 1"
   ]
  },
  {
   "cell_type": "markdown",
   "metadata": {},
   "source": [
    "Given an array of positive integers `nums`, return a list of all of the negative integers.<br>\n",
    "Ex. 1<br>\n",
    "nums = [1, 3, 5, 7, 8]<br>\n",
    "Expected Output: [-1, -3, -5, -7, -8]<br>\n",
    "\n",
    "Ex. 2<br>\n",
    "nums = [100, 534, 32, 15, 77, 222, 788, 345, 75645, 22]<br>\n",
    "Expected Output: [-100, -534, -32, -15, -77, -222, -788, -345, -75645, -22]<br>"
   ]
  },
  {
   "cell_type": "code",
   "execution_count": 31,
   "metadata": {},
   "outputs": [
    {
     "name": "stdout",
     "output_type": "stream",
     "text": [
      "[100, 534, 32, 15, 77, 222, 788, 345, 75645, 22]\n",
      "[-100, -534, -32, -15, -77, -222, -788, -345, -75645, -22]\n",
      "[-100, -534, -32, -15, -77, -222, -788, -345, -75645, -22]\n"
     ]
    }
   ],
   "source": [
    "# In-Place\n",
    "\n",
    "nums = [100, 534, 32, 15, 77, 222, 788, 345, 75645, 22]\n",
    "\n",
    "def neg_int_in(nums):\n",
    "    for i in range(len(nums)):\n",
    "        nums[i] *= -1\n",
    "    return nums\n",
    "\n",
    "print(nums)\n",
    "print(neg_int_in(nums))\n",
    "print(nums)"
   ]
  },
  {
   "cell_type": "raw",
   "metadata": {},
   "source": []
  },
  {
   "cell_type": "code",
   "execution_count": 21,
   "metadata": {},
   "outputs": [
    {
     "name": "stdout",
     "output_type": "stream",
     "text": [
      "[-50, -534, -32, -15, -77, -222, -788, -345, -75645, -22]\n"
     ]
    }
   ],
   "source": [
    "# Out-of-place\n",
    "\n",
    "def neg_int(nums):\n",
    "    return [num * -1 for num in nums if num > -1]\n",
    "\n",
    "print(neg_int([50, 534, 32, 15, 77, 222, 788, 345, 75645, 22]))"
   ]
  },
  {
   "cell_type": "markdown",
   "metadata": {},
   "source": [
    "### Exercise 2"
   ]
  },
  {
   "cell_type": "markdown",
   "metadata": {},
   "source": [
    "Given a string, return a list of all of the digits in the string.<br>\n",
    "Ex. 1 <br>\n",
    "address = \"123 Real Street, Apt. 2, Springfield, OR 43498\"<br>\n",
    "Expected Output: ['1', '2', '3', '2', '4', '3', '4', '9', '8']<br>\n",
    "\n",
    "Ex. 2 <br>\n",
    "sentence = \"My phone number is (555) 555-4321\"<br>\n",
    "Expected Output: ['5', '5', '5', '5', '5', '5', '4', '3', '2', '1']<br>"
   ]
  },
  {
   "cell_type": "code",
   "execution_count": 52,
   "metadata": {},
   "outputs": [
    {
     "name": "stdout",
     "output_type": "stream",
     "text": [
      "['5', '5', '5', '5', '5', '5', '4', '3', '2', '1']\n",
      "\n",
      "My number is ['1', '2', '3', '4', '3', '4', '7', '8', '9']\n"
     ]
    }
   ],
   "source": [
    "# Hint: Look at the string methods! -- help(str)\n",
    "\n",
    "sentence = \"My phone number is (555) 555-4321\"\n",
    "\n",
    "def numbers(str):\n",
    "    return [n for n in str if n.isdigit()]\n",
    "\n",
    "print(numbers(sentence))\n",
    "print(f'\\nMy number is {(numbers(\"M12y n3um43be4r i789s\"))}')"
   ]
  },
  {
   "cell_type": "markdown",
   "metadata": {},
   "source": [
    "### Exercise 3"
   ]
  },
  {
   "cell_type": "markdown",
   "metadata": {},
   "source": [
    "Given a string `digits`, return a **string** of the digits + 1<br>\n",
    "\n",
    "Ex. 1<br>\n",
    "digits = '123'<br>\n",
    "Expected Output: '124'<br>\n",
    "\n",
    "Ex. 2<br>\n",
    "digits = '99'<br>\n",
    "Expected Output: '100'<br>"
   ]
  },
  {
   "cell_type": "code",
   "execution_count": 89,
   "metadata": {},
   "outputs": [
    {
     "name": "stdout",
     "output_type": "stream",
     "text": [
      "124\n"
     ]
    }
   ],
   "source": [
    "digits = '1hgir2A3'\n",
    "\n",
    "# Can we assume the string will always include only digits?\n",
    "# Can we assume the string will not be empty?\n",
    "\n",
    "def plus_one(digits):\n",
    "    clean_digits = [x for x in digits if x.isdigit()]\n",
    "    return int(\"\".join(clean_digits)) + 1 \n",
    "\n",
    "print(plus_one(digits))"
   ]
  }
 ],
 "metadata": {
  "kernelspec": {
   "display_name": "Python 3 (ipykernel)",
   "language": "python",
   "name": "python3"
  },
  "language_info": {
   "codemirror_mode": {
    "name": "ipython",
    "version": 3
   },
   "file_extension": ".py",
   "mimetype": "text/x-python",
   "name": "python",
   "nbconvert_exporter": "python",
   "pygments_lexer": "ipython3",
   "version": "3.10.9"
  }
 },
 "nbformat": 4,
 "nbformat_minor": 4
}
