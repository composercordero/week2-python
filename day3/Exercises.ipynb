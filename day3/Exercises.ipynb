{
 "cells": [
  {
   "cell_type": "markdown",
   "metadata": {},
   "source": [
    "### Exercise 1"
   ]
  },
  {
   "cell_type": "markdown",
   "metadata": {},
   "source": [
    "Given an array of positive integers `nums`, return a list of all of the negative integers.<br>\n",
    "Ex. 1<br>\n",
    "nums = [1, 3, 5, 7, 8]<br>\n",
    "Expected Output: [-1, -3, -5, -7, -8]<br>\n",
    "\n",
    "Ex. 2<br>\n",
    "nums = [100, 534, 32, 15, 77, 222, 788, 345, 75645, 22]<br>\n",
    "Expected Output: [-100, -534, -32, -15, -77, -222, -788, -345, -75645, -22]<br>"
   ]
  },
  {
   "cell_type": "code",
   "execution_count": 31,
   "metadata": {},
   "outputs": [
    {
     "name": "stdout",
     "output_type": "stream",
     "text": [
      "[100, 534, 32, 15, 77, 222, 788, 345, 75645, 22]\n",
      "[-100, -534, -32, -15, -77, -222, -788, -345, -75645, -22]\n",
      "[-100, -534, -32, -15, -77, -222, -788, -345, -75645, -22]\n"
     ]
    }
   ],
   "source": [
    "# In-Place\n",
    "\n",
    "nums = [100, 534, 32, 15, 77, 222, 788, 345, 75645, 22]\n",
    "\n",
    "def neg_int_in(nums):\n",
    "    for i in range(len(nums)):\n",
    "        nums[i] *= -1\n",
    "    return nums\n",
    "\n",
    "print(nums)\n",
    "print(neg_int_in(nums))\n",
    "print(nums)"
   ]
  },
  {
   "cell_type": "raw",
   "metadata": {},
   "source": []
  },
  {
   "cell_type": "code",
   "execution_count": 91,
   "metadata": {},
   "outputs": [
    {
     "name": "stdout",
     "output_type": "stream",
     "text": [
      "[-50, -534, -32, -15, -77, -222, -788, -345, -75645, -22, -1]\n"
     ]
    }
   ],
   "source": [
    "# Out-of-place\n",
    "\n",
    "def neg_int(nums):\n",
    "    return [num * -1 if num > -1 else num for num in nums ]\n",
    "\n",
    "# If number is already negative, it should just append it\n",
    "\n",
    "print(neg_int([50, 534, 32, 15, 77, 222, 788, 345, 75645, 22, -1]))"
   ]
  },
  {
   "cell_type": "markdown",
   "metadata": {},
   "source": [
    "### Exercise 2"
   ]
  },
  {
   "cell_type": "markdown",
   "metadata": {},
   "source": [
    "Given a string, return a list of all of the digits in the string.<br>\n",
    "Ex. 1 <br>\n",
    "address = \"123 Real Street, Apt. 2, Springfield, OR 43498\"<br>\n",
    "Expected Output: ['1', '2', '3', '2', '4', '3', '4', '9', '8']<br>\n",
    "\n",
    "Ex. 2 <br>\n",
    "sentence = \"My phone number is (555) 555-4321\"<br>\n",
    "Expected Output: ['5', '5', '5', '5', '5', '5', '4', '3', '2', '1']<br>"
   ]
  },
  {
   "cell_type": "code",
   "execution_count": 99,
   "metadata": {},
   "outputs": [
    {
     "name": "stdout",
     "output_type": "stream",
     "text": [
      "['5', '5', '5', '5', '5', '5', '4', '3', '2', '1']\n",
      "\n",
      "My number is +123434789\n"
     ]
    }
   ],
   "source": [
    "# Hint: Look at the string methods! -- help(str)\n",
    "\n",
    "sentence = \"My phone number is (555) 555-4321\"\n",
    "\n",
    "def numbers(str):\n",
    "    return [n for n in str if n.isdigit()]\n",
    "\n",
    "print(numbers(sentence))\n",
    "print(f'\\nMy number is +{\"\".join((numbers(\"M12y n3um43be4r i789s\")))}')\n",
    "\n",
    "# Hide your number in a secret message. Maybe I can write a kata on it?"
   ]
  },
  {
   "cell_type": "markdown",
   "metadata": {},
   "source": [
    "### Exercise 3"
   ]
  },
  {
   "cell_type": "markdown",
   "metadata": {},
   "source": [
    "Given a string `digits`, return a **string** of the digits + 1<br>\n",
    "\n",
    "Ex. 1<br>\n",
    "digits = '123'<br>\n",
    "Expected Output: '124'<br>\n",
    "\n",
    "Ex. 2<br>\n",
    "digits = '99'<br>\n",
    "Expected Output: '100'<br>"
   ]
  },
  {
   "cell_type": "code",
   "execution_count": 117,
   "metadata": {
    "scrolled": true
   },
   "outputs": [
    {
     "name": "stdout",
     "output_type": "stream",
     "text": [
      "124\n",
      "100\n",
      "3487923419\n",
      "3438843994\n"
     ]
    }
   ],
   "source": [
    "digits = '1hgir2A3'\n",
    "\n",
    "# Can we assume the string will always include only digits?\n",
    "# Can we assume the string will not be empty?\n",
    "\n",
    "def plus_one(digits):\n",
    "    if isinstance(digits,str):\n",
    "        clean_digits = [x for x in digits if x.isdigit()]\n",
    "        return int(\"\".join(clean_digits)) + 1\n",
    "    else:\n",
    "        return digits + 1\n",
    "\n",
    "print(plus_one(digits))\n",
    "print(plus_one(99))\n",
    "print(plus_one(3487923418))\n",
    "print(plus_one('3438jt843993fh'))"
   ]
  },
  {
   "cell_type": "code",
   "execution_count": 105,
   "metadata": {},
   "outputs": [
    {
     "name": "stdout",
     "output_type": "stream",
     "text": [
      "Help on built-in function isinstance in module builtins:\n",
      "\n",
      "isinstance(obj, class_or_tuple, /)\n",
      "    Return whether an object is an instance of a class or of a subclass thereof.\n",
      "    \n",
      "    A tuple, as in ``isinstance(x, (A, B, ...))``, may be given as the target to\n",
      "    check against. This is equivalent to ``isinstance(x, A) or isinstance(x, B)\n",
      "    or ...`` etc.\n",
      "\n"
     ]
    }
   ],
   "source": [
    "help(isinstance)"
   ]
  }
 ],
 "metadata": {
  "kernelspec": {
   "display_name": "Python 3 (ipykernel)",
   "language": "python",
   "name": "python3"
  },
  "language_info": {
   "codemirror_mode": {
    "name": "ipython",
    "version": 3
   },
   "file_extension": ".py",
   "mimetype": "text/x-python",
   "name": "python",
   "nbconvert_exporter": "python",
   "pygments_lexer": "ipython3",
   "version": "3.10.9"
  }
 },
 "nbformat": 4,
 "nbformat_minor": 4
}
