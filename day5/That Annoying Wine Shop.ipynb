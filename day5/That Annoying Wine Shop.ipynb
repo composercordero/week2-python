{
 "cells": [
  {
   "cell_type": "markdown",
   "metadata": {},
   "source": [
    "# That Annoying Wine Shop"
   ]
  },
  {
   "cell_type": "markdown",
   "metadata": {},
   "source": [
    "###### Steps\n",
    "\n",
    "Using Python and the skills we learned over the past week, create a shopping cart program that will allow a user to add and remove items to a shopping cart. The cart should keep track of the quantity and price of each item.  The user should also be able to view the items that are currently in their cart. The user should be able to continue to add to, remove from, and view their cart until the user \"quits\" or \"checks out\". When the user quits/checks out, the program should display a receipt showing the items in the cart with quantity and price and the total price."
   ]
  },
  {
   "cell_type": "code",
   "execution_count": null,
   "metadata": {},
   "outputs": [],
   "source": []
  },
  {
   "cell_type": "code",
   "execution_count": 405,
   "metadata": {},
   "outputs": [
    {
     "name": "stdout",
     "output_type": "stream",
     "text": [
      "Input name: Carlos\n",
      "Input Carlos's address: ga\n",
      "Input Carlos's phone: fa\n",
      "Add another one? y/n: n\n",
      "\n",
      "You have successfully added 1 person to the address book:\n",
      "\n",
      "\n",
      "Carlos: Address - Ga / Phone - fa\n",
      "\n",
      "add, delete, quit: quit\n",
      "\n",
      "Carlos: Address - Ga / Phone - fa\n",
      "\n",
      "Thank you for updating your address book!\n"
     ]
    }
   ],
   "source": [
    "from IPython.display import clear_output\n",
    "\n",
    "\n",
    "address_book = {}\n",
    "\n",
    "def add_user():\n",
    "    while True:\n",
    "        \n",
    "        # Questions\n",
    "        name = input('Input name: ').title().strip()\n",
    "        address = input(f\"Input {name}'s address: \").title().strip()\n",
    "        phone = input(f\"Input {name}'s phone: \").strip(' -')\n",
    "        \n",
    "        # Append answers to the dict\n",
    "        address_book[name] = {\"address\":address, \"phone\": phone}\n",
    "        \n",
    "        # Continue\n",
    "        add_more = input(\"Add another one? y/n: \")\n",
    "        while add_more not in {'y', 'n'}:\n",
    "            add_more = input(\"Please enter 'y' or 'n' Add another one? y/n: \")\n",
    "        \n",
    "        # Break the loop\n",
    "        if add_more == 'n':\n",
    "            break\n",
    "     \n",
    "    # Print number of users\n",
    "    if len(address_book) == 1:\n",
    "        print(f'\\nYou have successfully added 1 person to the address book:')\n",
    "    else:   \n",
    "        print(f'\\nYou have successfully added {len(address_book)} people to the address book: ')\n",
    "\n",
    "    # Formatted list of users added\n",
    "    print_address_book()\n",
    "\n",
    "        \n",
    "def edit_user():\n",
    "    while True:\n",
    "        what_else = input(\"\\nadd, delete, quit: \").lower().strip()\n",
    "\n",
    "        if what_else == 'add':\n",
    "            add_user()\n",
    "        elif what_else == 'delete':\n",
    "            del_user()\n",
    "        elif what_else == 'quit':\n",
    "            print_address_book()\n",
    "            return print(\"\\nThank you for updating your address book!\")\n",
    "\n",
    "        else:\n",
    "            print(\"select a valid option!\\n\")\n",
    "\n",
    "def del_user():\n",
    "    delete_user = input(\"what user would you like to delete? \").title().strip()\n",
    "    if delete_user in address_book:\n",
    "        del address_book[delete_user]\n",
    "        print(f'\\nYou have successfully deleted {delete_user} from the address book.≈')\n",
    "        print(f'This is your address_book: \\n')\n",
    "        print_address_book()\n",
    "    else:\n",
    "        print(\"User not in the address book.\")\n",
    "        del_user()\n",
    "        \n",
    "def print_address_book():\n",
    "    for key,value in address_book.items():\n",
    "        print(f\"\\n{key}: Address - {value['address']} / Phone - {value['phone']}\")\n",
    "        \n",
    "add_user()\n",
    "\n",
    "# Options to edit users\n",
    "edit_user()"
   ]
  },
  {
   "cell_type": "code",
   "execution_count": 337,
   "metadata": {},
   "outputs": [
    {
     "name": "stdout",
     "output_type": "stream",
     "text": [
      "\n",
      "add, delete, quit: quit\n",
      "Thank you for updating your address book!\n"
     ]
    }
   ],
   "source": [
    "def edit_user():\n",
    "    what_else = input(\"\\nadd, delete, quit: \").lower().strip()\n",
    "    \n",
    "    if what_else == 'add':\n",
    "        add_user()\n",
    "    elif what_else == 'delete':\n",
    "        del_user()\n",
    "        edit_user()\n",
    "    elif what_else == 'quit':\n",
    "        return \"Thank you for updating your address book!\"\n",
    "    else:\n",
    "        print(\"select a valid option!\\n\")\n",
    "        edit_user()\n",
    "        \n",
    "print(edit_user())"
   ]
  },
  {
   "cell_type": "code",
   "execution_count": 259,
   "metadata": {},
   "outputs": [
    {
     "name": "stdout",
     "output_type": "stream",
     "text": [
      "Carlos: Address - Here / Phone - 7\n",
      "Sarah: Address - There / Phone - 8\n"
     ]
    }
   ],
   "source": [
    "address_book = {'Carlos': {'address': 'Here', 'phone': 7}, 'Sarah': {'address': 'There', 'phone': 8}}\n",
    "\n",
    "for key,value in address_book.items():\n",
    "    print(f\"{key}: Address - {value['address']} / Phone - {value['phone']}\")"
   ]
  },
  {
   "cell_type": "code",
   "execution_count": 324,
   "metadata": {},
   "outputs": [
    {
     "name": "stdout",
     "output_type": "stream",
     "text": [
      "add, delete, quit: delete\n",
      "delete\n"
     ]
    }
   ],
   "source": [
    "what_else = input(\"add, delete, quit: \").lower().strip()\n",
    "print(what_else)"
   ]
  },
  {
   "cell_type": "code",
   "execution_count": null,
   "metadata": {},
   "outputs": [],
   "source": []
  },
  {
   "cell_type": "markdown",
   "metadata": {},
   "source": [
    "### Pseudo-Code"
   ]
  },
  {
   "cell_type": "code",
   "execution_count": null,
   "metadata": {},
   "outputs": [],
   "source": [
    "# Welcome to That Annoying Wine Shop, where you tell me what wine you want and I create an experience for you!\n",
    "\n",
    "# Create a list of articles: Wine (Red (Cabernet, Pinot Noir), White (Chardonnay, Sauvignon Blanc), Rose, Blend), Cheese (Aged Gouda, Cheddar, Brie, Goat Cheese), \n",
    "# Accesories (wine glasses, wine markers, wine breather)\n",
    "\n",
    "# Create a list of Freebies: wine glass, coaster, colored lightbulb\n",
    "\n",
    "# (main) action = input(What would you like to do? Add, Delete, View Cart, Pay, Leave: ).lower().strip()\n",
    "    # If action == 'add':\n",
    "        # add()\n",
    "    # If action == 'delete':\n",
    "        # delete()\n",
    "    # If action in 'view cart':\n",
    "        # view_cart()\n",
    "    # If action == 'pay':\n",
    "        # pay()\n",
    "    # If action == 'leave':\n",
    "        # leave()\n",
    "    \n",
    "\n",
    "# add()\n",
    "    # While True\n",
    "        # Display Articles and Price\n",
    "        # input What article would you like to add?\n",
    "\n",
    "        # input(How many articles would you like to add to your cart?)\n",
    "\n",
    "        # print(add two more articles, I'll throw in a random freebie for you!)\n",
    "            # add_more = input(add two more article y/n?)\n",
    "                # If yes, add two more articles and add the freebie\n",
    "\n",
    "        # continue_add = input(Would you like to continue adding? y/n: )\n",
    "            # If continue_add == 'n'\n",
    "                # break\n",
    "    \n",
    "# delete()\n",
    "    # While True\n",
    "        # view_cart()\n",
    "        \n",
    "        # print(type quit if you change your mind)\n",
    "        \n",
    "        # del_art = input(What article would you like to delete?)\n",
    "        \n",
    "        # del_art_num = input(How many articles would you like to delete?)\n",
    "        \n",
    "        # del_conf = input(Are you sure you'd like to delete this many articles from your shopping cart? y/n)\n",
    "        \n",
    "        # del article\n",
    "        \n",
    "        # print(You've deleted this many articles)\n",
    "        \n",
    "        # view_cart()\n",
    "\n",
    "# view_cart()\n",
    "\n",
    "\n",
    "# pay()\n",
    "    \n",
    "    # display total_cart\n",
    "        # view_cart()\n",
    "        # total() \n",
    "        \n",
    "    # method_of_payment = input(Method of payment - credit card, apple pay, or cash: )\n",
    "        # if method_of_payment == 'credit card' or method_of_payment == 'apple pay'\n",
    "            # all_set()\n",
    "        # elif method_of_payment == 'cash'\n",
    "            # cash = input(Enter the amount of cash: )\n",
    "                # if cash == total()\n",
    "                    # all_set()\n",
    "                # elif cash > total()\n",
    "                    # print(Thank you for the tip!)\n",
    "                    # all_set()\n",
    "                # else: print(That's not enough cash.)\n",
    "                    \n",
    "# leave()\n",
    "    # if cart != {}:\n",
    "        # if payment == 'done'\n",
    "            # all_set()\n",
    "        # elif payment == 'pending'\n",
    "            # print(remember to pay :))\n",
    "            # pay()\n",
    "    # else:\n",
    "        # print(Thank you for coming to That Annoying Wine Shop!) \n",
    "\n",
    "# all_set\n",
    "    # print(You are all set. Thank you for shopping at That Annoying Wine Shop)\n",
    "            # receipt()\n"
   ]
  },
  {
   "cell_type": "code",
   "execution_count": 8,
   "metadata": {},
   "outputs": [
    {
     "name": "stdout",
     "output_type": "stream",
     "text": [
      "Welcome to That Annoying Wine Shop, where you tell me what wine you want and I create an experience for you!\n"
     ]
    }
   ],
   "source": [
    "welcome = print('Welcome to That Annoying Wine Shop, where you tell me what wine you want and I create an experience for you!')"
   ]
  },
  {
   "cell_type": "code",
   "execution_count": 18,
   "metadata": {},
   "outputs": [
    {
     "name": "stdout",
     "output_type": "stream",
     "text": [
      "{'wine': {'red': {'cabernet': {'price': 18, 'pairing': 'aged gouda', 'year': 2013}, 'pinot noir': {'price': 16, 'pairing': 'brie', 'year': 2019}}, 'white': {'chardonnay': {'price': 10, 'paring': 'cheddar', 'year': 2021}, 'sauvignon blanc': {'price': 12, 'year': 2022}}, 'rose': {'price': 8, 'year': 2023}}, 'cheese': {'aged gouda': 4, 'brie': 3, 'cheddar': 2}, 'accessories': {'wine glasses': 12, 'wine markers': 5, 'wine breather': 30}}\n",
      "\n",
      "--------------------\n",
      "\n",
      "{'red': {'cabernet': {'price': 18, 'pairing': 'aged gouda', 'year': 2013}, 'pinot noir': {'price': 16, 'pairing': 'brie', 'year': 2019}}, 'white': {'chardonnay': {'price': 10, 'paring': 'cheddar', 'year': 2021}, 'sauvignon blanc': {'price': 12, 'year': 2022}}, 'rose': {'price': 8, 'year': 2023}}\n"
     ]
    }
   ],
   "source": [
    "# Create a list of articles: Wine (Red (Cabernet, Pinot Noir), White (Chardonnay, Sauvignon Blanc), Rose, Blend), Cheese (Aged Gouda, Cheddar, Brie, Goat Cheese), \n",
    "# Accesories (wine glasses, wine markers, wine breather)\n",
    "\n",
    "articles = {\n",
    "    'wine':{\n",
    "        'red':{\n",
    "            'cabernet': {\n",
    "                'price': 18,\n",
    "                'pairing': 'aged gouda',\n",
    "                'year': 2013\n",
    "            },\n",
    "            'pinot noir': {\n",
    "                'price': 16,\n",
    "                'pairing': 'brie',\n",
    "                'year': 2019\n",
    "            }\n",
    "        },\n",
    "        'white':{\n",
    "            'chardonnay':{\n",
    "                'price': 10,\n",
    "                'paring': 'cheddar',\n",
    "                'year': 2021                \n",
    "            },\n",
    "            'sauvignon blanc': {\n",
    "                'price': 12,\n",
    "                'year': 2022\n",
    "            }\n",
    "        },\n",
    "        'rose':{\n",
    "            'price': 8,\n",
    "            'year': 2023\n",
    "        }\n",
    "        \n",
    "    },\n",
    "    'cheese':{\n",
    "        'aged gouda': 4,\n",
    "        'brie': 3,\n",
    "        'cheddar': 2\n",
    "    },\n",
    "    'accessories':{\n",
    "        'wine glasses': 12,\n",
    "        'wine markers': 5,\n",
    "        'wine breather': 30\n",
    "    }\n",
    "}\n",
    "\n",
    "freebies = ['wine glass', 'coaster', 'colored lightbulb']\n",
    "\n",
    "print(articles)\n",
    "print('\\n' + '-'*20 + '\\n')\n",
    "print(articles.get('wine'))"
   ]
  },
  {
   "cell_type": "code",
   "execution_count": 29,
   "metadata": {},
   "outputs": [
    {
     "name": "stdout",
     "output_type": "stream",
     "text": [
      "What would you like to do? Add, Delete, View Cart, Pay, Leave: me\n",
      "Please, select a valid option: Add, Delete, View Cart, Pay, Leave: me\n",
      "Please, select a valid option: Add, Delete, View Cart, Pay, Leave: me\n",
      "Please, select a valid option: Add, Delete, View Cart, Pay, Leave: me\n",
      "Please, select a valid option: Add, Delete, View Cart, Pay, Leave: me\n",
      "Please, select a valid option: Add, Delete, View Cart, Pay, Leave: add\n",
      "add\n"
     ]
    }
   ],
   "source": [
    "# def main():\n",
    "#     action = input('What would you like to do? Add, Delete, View Cart, Pay, Leave: ').lower().strip()\n",
    "    \n",
    "#     if action == 'add':\n",
    "#         add()\n",
    "#     if action == 'delete':\n",
    "#         delete()\n",
    "#     if action in 'view cart':\n",
    "#         view_cart()\n",
    "#     if action == 'pay':\n",
    "#         pay()\n",
    "#     if action == 'leave':\n",
    "#         leave()\n",
    "\n",
    "        \n",
    "def main():\n",
    "    action = input('What would you like to do? Add, Delete, View Cart, Pay, Leave: ').lower().strip()\n",
    "    \n",
    "    while action not in {'add', 'delete', 'view cart', 'pay', 'leave'}:\n",
    "        action = input('Please, select a valid option: Add, Delete, View Cart, Pay, Leave: ').lower().strip()\n",
    "    \n",
    "    if action == 'add':\n",
    "        print('add')\n",
    "    if action == 'delete':\n",
    "        print('delete')\n",
    "    if action in 'view cart':\n",
    "        print('cart')\n",
    "    if action == 'pay':\n",
    "        print('pay')\n",
    "    if action == 'leave':\n",
    "        print('leave')\n",
    "\n",
    "main()"
   ]
  },
  {
   "cell_type": "code",
   "execution_count": null,
   "metadata": {},
   "outputs": [],
   "source": []
  },
  {
   "cell_type": "code",
   "execution_count": null,
   "metadata": {},
   "outputs": [],
   "source": []
  }
 ],
 "metadata": {
  "kernelspec": {
   "display_name": "Python 3 (ipykernel)",
   "language": "python",
   "name": "python3"
  },
  "language_info": {
   "codemirror_mode": {
    "name": "ipython",
    "version": 3
   },
   "file_extension": ".py",
   "mimetype": "text/x-python",
   "name": "python",
   "nbconvert_exporter": "python",
   "pygments_lexer": "ipython3",
   "version": "3.10.9"
  }
 },
 "nbformat": 4,
 "nbformat_minor": 2
}
