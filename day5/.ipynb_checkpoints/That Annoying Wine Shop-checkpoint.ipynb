{
 "cells": [
  {
   "cell_type": "markdown",
   "metadata": {},
   "source": [
    "## Data Collections 2 (Dictionaries, Sets)"
   ]
  },
  {
   "cell_type": "code",
   "execution_count": null,
   "metadata": {},
   "outputs": [],
   "source": []
  },
  {
   "cell_type": "code",
   "execution_count": null,
   "metadata": {},
   "outputs": [],
   "source": []
  },
  {
   "cell_type": "code",
   "execution_count": null,
   "metadata": {},
   "outputs": [],
   "source": []
  },
  {
   "cell_type": "markdown",
   "metadata": {},
   "source": [
    "##### .remove()"
   ]
  },
  {
   "cell_type": "code",
   "execution_count": 199,
   "metadata": {},
   "outputs": [
    {
     "ename": "KeyError",
     "evalue": "200",
     "output_type": "error",
     "traceback": [
      "\u001b[0;31m---------------------------------------------------------------------------\u001b[0m",
      "\u001b[0;31mKeyError\u001b[0m                                  Traceback (most recent call last)",
      "Cell \u001b[0;32mIn[199], line 3\u001b[0m\n\u001b[1;32m      1\u001b[0m \u001b[38;5;66;03m# When using the remove, the element must exist in the set or else there will be an error\u001b[39;00m\n\u001b[0;32m----> 3\u001b[0m \u001b[43mthird_set\u001b[49m\u001b[38;5;241;43m.\u001b[39;49m\u001b[43mremove\u001b[49m\u001b[43m(\u001b[49m\u001b[38;5;241;43m200\u001b[39;49m\u001b[43m)\u001b[49m\n\u001b[1;32m      4\u001b[0m \u001b[38;5;28mprint\u001b[39m(third_set)\n",
      "\u001b[0;31mKeyError\u001b[0m: 200"
     ]
    }
   ],
   "source": [
    "# When using the remove, the element must exist in the set or else there will be an error\n",
    "\n",
    "third_set.remove(200)\n",
    "print(third_set)"
   ]
  },
  {
   "cell_type": "code",
   "execution_count": null,
   "metadata": {},
   "outputs": [],
   "source": [
    "# Sets can have any immutable type as a member - int, float, boolearn, str, tuple, class objects\n",
    "\n"
   ]
  },
  {
   "cell_type": "code",
   "execution_count": null,
   "metadata": {
    "scrolled": true
   },
   "outputs": [],
   "source": []
  },
  {
   "cell_type": "markdown",
   "metadata": {},
   "source": [
    "##### .union() "
   ]
  },
  {
   "cell_type": "code",
   "execution_count": null,
   "metadata": {},
   "outputs": [],
   "source": []
  },
  {
   "cell_type": "code",
   "execution_count": 200,
   "metadata": {},
   "outputs": [
    {
     "name": "stdout",
     "output_type": "stream",
     "text": [
      "{1, 2, 3, 4, 5, 6, 7}\n",
      "{1, 2, 3, 4, 5, 6, 7}\n"
     ]
    }
   ],
   "source": [
    "# Returns a union of two sets, can also use '|' or set.union(set)\n",
    "# joins all numbers, gets rid of duplicates\n",
    "\n",
    "s1 = {1,2,3,4}\n",
    "s2 = {3,4,5,6}\n",
    "\n",
    "s3 = s1.union(s2)\n",
    "print(s3)\n",
    "\n",
    "# OR\n",
    "\n",
    "s4 = s2 | s1\n",
    "print(s4)"
   ]
  },
  {
   "cell_type": "code",
   "execution_count": null,
   "metadata": {},
   "outputs": [],
   "source": []
  },
  {
   "cell_type": "markdown",
   "metadata": {},
   "source": [
    "##### .intersection()"
   ]
  },
  {
   "cell_type": "code",
   "execution_count": 201,
   "metadata": {},
   "outputs": [
    {
     "name": "stdout",
     "output_type": "stream",
     "text": [
      "Help on method_descriptor:\n",
      "\n",
      "intersection(...)\n",
      "    Return the intersection of two sets as a new set.\n",
      "    \n",
      "    (i.e. all elements that are in both sets.)\n",
      "\n"
     ]
    }
   ],
   "source": [
    "help(set.intersection)"
   ]
  },
  {
   "cell_type": "code",
   "execution_count": 206,
   "metadata": {
    "scrolled": true
   },
   "outputs": [
    {
     "name": "stdout",
     "output_type": "stream",
     "text": [
      "{3, 4}\n",
      "{3, 4}\n",
      "{1, 2, 3, 4}\n"
     ]
    }
   ],
   "source": [
    "# Returns an intersection of two sets, can also use '&'\n",
    "# only takes similar elements from both sets\n",
    "\n",
    "s1 = {1,2,3,4}\n",
    "s2 = {3,4,5,6}\n",
    "\n",
    "s5 = s1.intersection(s2)\n",
    "print(s5)\n",
    "\n",
    "# OR\n",
    "\n",
    "s6 = s2 & s1\n",
    "print(s5)\n",
    "print(s1)"
   ]
  },
  {
   "cell_type": "markdown",
   "metadata": {},
   "source": [
    "##### .difference()"
   ]
  },
  {
   "cell_type": "code",
   "execution_count": null,
   "metadata": {},
   "outputs": [],
   "source": []
  },
  {
   "cell_type": "code",
   "execution_count": 214,
   "metadata": {},
   "outputs": [
    {
     "name": "stdout",
     "output_type": "stream",
     "text": [
      "{1, 2}\n",
      "{1, 2}\n",
      "{5, 6}\n"
     ]
    }
   ],
   "source": [
    "# Returns a set containing all the elements of invoking set that are not in the second set, can also use '-'\n",
    "# only takes values from the first set that are not in the second set\n",
    "# order matters\n",
    "\n",
    "s1 = {1,2,3,4}\n",
    "s2 = {3,4,5,6}\n",
    "\n",
    "s7 = s1.difference(s2)\n",
    "print(s7)\n",
    "\n",
    "s8 = s1 - s2\n",
    "print(s8)\n",
    "\n",
    "s9 = s2 - s1 # Order Matters\n",
    "print(s9)"
   ]
  },
  {
   "cell_type": "code",
   "execution_count": 215,
   "metadata": {},
   "outputs": [
    {
     "name": "stdout",
     "output_type": "stream",
     "text": [
      "[{'c', 'a', 'b'}, {1, 2, 3}]\n"
     ]
    }
   ],
   "source": [
    "# Lists can contain sets\n",
    "# Remember it is unordered\n",
    "\n",
    "list_of_sets = [{'a', 'b', 'c'}, {1,  2, 3}]\n",
    "print(list_of_sets)"
   ]
  },
  {
   "cell_type": "code",
   "execution_count": 216,
   "metadata": {},
   "outputs": [
    {
     "name": "stdout",
     "output_type": "stream",
     "text": [
      "{'a': {'a', 'b'}, 'b': {10, 20, 30}}\n",
      "<class 'dict'>\n",
      "<class 'set'>\n"
     ]
    }
   ],
   "source": [
    "# dictionary values can be sets\n",
    "\n",
    "d8 = {\n",
    "    'a': {'a', 'b'},\n",
    "    'b': {10, 20 ,30}\n",
    "}\n",
    "\n",
    "print(d8)\n",
    "print(type(d8))\n",
    "print(type(d8.get('a')))"
   ]
  },
  {
   "cell_type": "code",
   "execution_count": null,
   "metadata": {},
   "outputs": [],
   "source": []
  },
  {
   "cell_type": "code",
   "execution_count": null,
   "metadata": {},
   "outputs": [],
   "source": []
  },
  {
   "cell_type": "code",
   "execution_count": null,
   "metadata": {},
   "outputs": [],
   "source": []
  },
  {
   "cell_type": "code",
   "execution_count": null,
   "metadata": {},
   "outputs": [],
   "source": []
  },
  {
   "cell_type": "markdown",
   "metadata": {},
   "source": [
    "##### .clear()"
   ]
  },
  {
   "cell_type": "code",
   "execution_count": 217,
   "metadata": {
    "scrolled": true
   },
   "outputs": [
    {
     "name": "stdout",
     "output_type": "stream",
     "text": [
      "Help on method_descriptor:\n",
      "\n",
      "clear(...)\n",
      "    Remove all elements from this set.\n",
      "\n"
     ]
    }
   ],
   "source": [
    "# Empties the whole set\n",
    "# set.clear()\n",
    "\n",
    "help(set.clear)"
   ]
  },
  {
   "cell_type": "code",
   "execution_count": 219,
   "metadata": {},
   "outputs": [
    {
     "name": "stdout",
     "output_type": "stream",
     "text": [
      "{1, 2, 3, 34, 4, 5, 6425}\n",
      "set()\n"
     ]
    }
   ],
   "source": [
    "nums = {1,2,3,34,4,5,6425}\n",
    "\n",
    "print(nums)\n",
    "\n",
    "nums.clear()\n",
    "\n",
    "print(nums)"
   ]
  },
  {
   "cell_type": "markdown",
   "metadata": {},
   "source": [
    "##### Frozenset <br>\n",
    "<p>Frozen sets are immutable objects that only support methods and operators that produce a result without affecting the frozen set or sets to which they are applied.</p><br><b>Unique & Immutable</b>"
   ]
  },
  {
   "cell_type": "code",
   "execution_count": 220,
   "metadata": {},
   "outputs": [
    {
     "name": "stdout",
     "output_type": "stream",
     "text": [
      "frozenset({1, 2, 3, 4, 5, 6, 7})\n",
      "<class 'frozenset'>\n"
     ]
    }
   ],
   "source": [
    "# Frozen set is to set what tuple is to list\n",
    "# Inmutable set\n",
    "\n",
    "my_frozenset = frozenset(s3)\n",
    "print(my_frozenset)\n",
    "print(type(my_frozenset))\n"
   ]
  },
  {
   "cell_type": "code",
   "execution_count": null,
   "metadata": {},
   "outputs": [],
   "source": [
    "# frozenset([])\n"
   ]
  },
  {
   "cell_type": "code",
   "execution_count": 227,
   "metadata": {},
   "outputs": [
    {
     "name": "stdout",
     "output_type": "stream",
     "text": [
      "<class 'list'>\n",
      "<class 'set'>\n"
     ]
    }
   ],
   "source": [
    "# Set Comprehension - only difference form list comp is using {} instead of []\n",
    "\n",
    "list_of_10 = [x for x in range(1,11)]\n",
    "\n",
    "set_of_10 = {x for x in range(1,11)}\n",
    "\n",
    "print(type(list_of_10))\n",
    "print(type(set_of_10))"
   ]
  },
  {
   "cell_type": "code",
   "execution_count": null,
   "metadata": {},
   "outputs": [],
   "source": []
  },
  {
   "cell_type": "code",
   "execution_count": null,
   "metadata": {},
   "outputs": [],
   "source": []
  },
  {
   "cell_type": "code",
   "execution_count": null,
   "metadata": {},
   "outputs": [],
   "source": [
    "import time\n",
    "# generate fake set\n",
    "big_set = {i for i in range(10000000)}\n",
    "    \n",
    "\n",
    "# generate fake list\n",
    "big_list = [x for x in range(10000000)]"
   ]
  },
  {
   "cell_type": "code",
   "execution_count": null,
   "metadata": {},
   "outputs": [],
   "source": [
    "# tracking time for set\n",
    "start_time = time.time()\n",
    "\n",
    "print(9999999 in big_set)\n",
    "\n",
    "end_time = time.time()\n",
    "\n",
    "elapsed_time = end_time - start_time\n",
    "\n",
    "print(f'Elapsed time for set: {elapsed_time}')\n",
    "\n",
    "\n",
    "# tracking time for list\n",
    "start_time = time.time()\n",
    "\n",
    "print(9999999 in big_list)\n",
    "\n",
    "end_time = time.time()\n",
    "\n",
    "elapsed_time = end_time - start_time\n",
    "\n",
    "print(f'Elapsed time for list: {elapsed_time}')"
   ]
  },
  {
   "cell_type": "code",
   "execution_count": null,
   "metadata": {},
   "outputs": [],
   "source": []
  },
  {
   "cell_type": "markdown",
   "metadata": {},
   "source": [
    "# Exercises"
   ]
  },
  {
   "cell_type": "markdown",
   "metadata": {},
   "source": [
    "### 1) Create a program that allows a user to continue to add people to an address book until the user quits. Once the user quits, break out of the loop and print out the name and address of everyone in the address book"
   ]
  },
  {
   "cell_type": "markdown",
   "metadata": {},
   "source": [
    "###### Steps\n",
    "1. Create a function that will ask user for name and addresses and stores them in a dictionary\n",
    "2. Define an empty dictionary with which to work (global or local variable?)\n",
    "3. Begin a loop that will continue to ask a user for information until the user \"quits\"\n",
    "4. If the user does not quit, ask for a name and address and store the values into variables\n",
    "5. Add information to the dictionary with name as the key and address as the value\n",
    "6. If the user does quit, end the loop\n",
    "7. Print out the information from the dictionary in a formatted way\n",
    "8. Execute/Call the function"
   ]
  },
  {
   "cell_type": "code",
   "execution_count": null,
   "metadata": {},
   "outputs": [],
   "source": []
  },
  {
   "cell_type": "code",
   "execution_count": 405,
   "metadata": {},
   "outputs": [
    {
     "name": "stdout",
     "output_type": "stream",
     "text": [
      "Input name: Carlos\n",
      "Input Carlos's address: ga\n",
      "Input Carlos's phone: fa\n",
      "Add another one? y/n: n\n",
      "\n",
      "You have successfully added 1 person to the address book:\n",
      "\n",
      "\n",
      "Carlos: Address - Ga / Phone - fa\n",
      "\n",
      "add, delete, quit: quit\n",
      "\n",
      "Carlos: Address - Ga / Phone - fa\n",
      "\n",
      "Thank you for updating your address book!\n"
     ]
    }
   ],
   "source": [
    "from IPython.display import clear_output\n",
    "\n",
    "\n",
    "address_book = {}\n",
    "\n",
    "def add_user():\n",
    "    while True:\n",
    "        \n",
    "        # Questions\n",
    "        name = input('Input name: ').title().strip()\n",
    "        address = input(f\"Input {name}'s address: \").title().strip()\n",
    "        phone = input(f\"Input {name}'s phone: \").strip(' -')\n",
    "        \n",
    "        # Append answers to the dict\n",
    "        address_book[name] = {\"address\":address, \"phone\": phone}\n",
    "        \n",
    "        # Continue\n",
    "        add_more = input(\"Add another one? y/n: \")\n",
    "        \n",
    "        # Break the loop\n",
    "        if add_more == 'n':\n",
    "            break\n",
    "     \n",
    "    # Print number of users\n",
    "    if len(address_book) == 1:\n",
    "        print(f'\\nYou have successfully added 1 person to the address book:')\n",
    "    else:   \n",
    "        print(f'\\nYou have successfully added {len(address_book)} people to the address book: ')\n",
    "\n",
    "    # Formatted list of users added\n",
    "    print_address_book()\n",
    "    \n",
    "    # Options to edit users\n",
    "    edit_user()\n",
    "\n",
    "    #Do I need a return here?\n",
    "        \n",
    "def edit_user():\n",
    "    what_else = input(\"\\nadd, delete, quit: \").lower().strip()\n",
    "    \n",
    "    if what_else == 'add':\n",
    "        add_user()\n",
    "    elif what_else == 'delete':\n",
    "        del_user()\n",
    "        edit_user()\n",
    "    elif what_else == 'quit':\n",
    "        print_address_book()\n",
    "        return print(\"\\nThank you for updating your address book!\")\n",
    "    #Why is quit not working well?\n",
    "    else:\n",
    "        print(\"select a valid option!\\n\")\n",
    "        edit_user()\n",
    "\n",
    "def del_user():\n",
    "    delete_user = input(\"what user would you like to delete? \").title().strip()\n",
    "    if delete_user in address_book:\n",
    "        del address_book[delete_user]\n",
    "        print(f'\\nYou have successfully deleted {delete_user} from the address book.≈')\n",
    "        print(f'This is your address_book: \\n')\n",
    "        print_address_book()\n",
    "        edit_user()\n",
    "    else:\n",
    "        print(\"User not in the address book.\")\n",
    "        del_user()\n",
    "        \n",
    "def print_address_book():\n",
    "    for key,value in address_book.items():\n",
    "        return print(f\"\\n{key}: Address - {value['address']} / Phone - {value['phone']}\")\n",
    "        \n",
    "add_user()"
   ]
  },
  {
   "cell_type": "code",
   "execution_count": 337,
   "metadata": {},
   "outputs": [
    {
     "name": "stdout",
     "output_type": "stream",
     "text": [
      "\n",
      "add, delete, quit: quit\n",
      "Thank you for updating your address book!\n"
     ]
    }
   ],
   "source": [
    "def edit_user():\n",
    "    what_else = input(\"\\nadd, delete, quit: \").lower().strip()\n",
    "    \n",
    "    if what_else == 'add':\n",
    "        add_user()\n",
    "    elif what_else == 'delete':\n",
    "        del_user()\n",
    "        edit_user()\n",
    "    elif what_else == 'quit':\n",
    "        return \"Thank you for updating your address book!\"\n",
    "    else:\n",
    "        print(\"select a valid option!\\n\")\n",
    "        edit_user()\n",
    "        \n",
    "print(edit_user())"
   ]
  },
  {
   "cell_type": "code",
   "execution_count": 259,
   "metadata": {},
   "outputs": [
    {
     "name": "stdout",
     "output_type": "stream",
     "text": [
      "Carlos: Address - Here / Phone - 7\n",
      "Sarah: Address - There / Phone - 8\n"
     ]
    }
   ],
   "source": [
    "address_book = {'Carlos': {'address': 'Here', 'phone': 7}, 'Sarah': {'address': 'There', 'phone': 8}}\n",
    "\n",
    "for key,value in address_book.items():\n",
    "    print(f\"{key}: Address - {value['address']} / Phone - {value['phone']}\")"
   ]
  },
  {
   "cell_type": "code",
   "execution_count": 324,
   "metadata": {},
   "outputs": [
    {
     "name": "stdout",
     "output_type": "stream",
     "text": [
      "add, delete, quit: delete\n",
      "delete\n"
     ]
    }
   ],
   "source": [
    "what_else = input(\"add, delete, quit: \").lower().strip()\n",
    "print(what_else)"
   ]
  },
  {
   "cell_type": "code",
   "execution_count": null,
   "metadata": {},
   "outputs": [],
   "source": []
  },
  {
   "cell_type": "markdown",
   "metadata": {},
   "source": []
  },
  {
   "cell_type": "code",
   "execution_count": null,
   "metadata": {},
   "outputs": [],
   "source": [
    "# Welcome to That Annoying Wine Shop, where you tell me what wine you want and I create an experience for you!\n",
    "\n",
    "# Create a list of articles: Wine (Red (Cabernet, Pinot Noir), White (Chardonnay, Sauvignon Blanc), Rose, Blend), Cheese (Aged Gouda, Cheddar, Brie, Goat Cheese), \n",
    "# Accesories (wine glasses, wine markers, wine breather)\n",
    "\n",
    "# Create a list of Freebies: wine glass, coaster, colored lightbulb\n",
    "\n",
    "# (main) action = input(What would you like to do? Add, Delete, View Cart, Pay, Leave: ).lower().strip()\n",
    "    # If action == 'add':\n",
    "        # add()\n",
    "    # If action == 'delete':\n",
    "        # delete()\n",
    "    # If action in 'view cart':\n",
    "        # view_cart()\n",
    "    # If action == 'pay':\n",
    "        # pay()\n",
    "    # If action == 'leave':\n",
    "        # leave()\n",
    "    \n",
    "\n",
    "# add()\n",
    "    # While True\n",
    "        # Display Articles and Price\n",
    "        # input What article would you like to add?\n",
    "\n",
    "        # input(How many articles would you like to add to your cart?)\n",
    "\n",
    "        # print(add two more articles, I'll throw in a random freebie for you!)\n",
    "            # add_more = input(add two more article y/n?)\n",
    "                # If yes, add two more articles and add the freebie\n",
    "\n",
    "        # continue_add = input(Would you like to continue adding? y/n: )\n",
    "            # If continue_add == 'n'\n",
    "                # break\n",
    "    \n",
    "# delete()\n",
    "    # While True\n",
    "        # view_cart()\n",
    "        \n",
    "        # print(type quit if you change your mind)\n",
    "        \n",
    "        # del_art = input(What article would you like to delete?)\n",
    "        \n",
    "        # del_art_num = input(How many articles would you like to delete?)\n",
    "        \n",
    "        # del_conf = input(Are you sure you'd like to delete this many articles from your shopping cart? y/n)\n",
    "        \n",
    "        # del article\n",
    "        \n",
    "        # print(You've deleted this many articles)\n",
    "        \n",
    "        # view_cart()\n",
    "\n",
    "# view_cart()\n",
    "\n",
    "\n",
    "# pay()\n",
    "    \n",
    "    # display total_cart\n",
    "        # view_cart()\n",
    "        # total() \n",
    "        \n",
    "    # method_of_payment = input(Method of payment - credit card, apple pay, or cash: )\n",
    "        # if method_of_payment == 'credit card' or method_of_payment == 'apple pay'\n",
    "            # all_set()\n",
    "        # elif method_of_payment == 'cash'\n",
    "            # cash = input(Enter the amount of cash: )\n",
    "                # if cash == total()\n",
    "                    # all_set()\n",
    "                # elif cash > total()\n",
    "                    # print(Thank you for the tip!)\n",
    "                    # all_set()\n",
    "                # else: print(That's not enough cash.)\n",
    "                    \n",
    "# leave()\n",
    "    # if cart != {}:\n",
    "        # if payment == 'done'\n",
    "            # all_set()\n",
    "        # elif payment == 'pending'\n",
    "            # print(remember to pay :))\n",
    "            # pay()\n",
    "    # else:\n",
    "        # print(Thank you for coming to That Annoying Wine Shop!) \n",
    "\n",
    "# all_set\n",
    "    # print(You are all set. Thank you for shopping at That Annoying Wine Shop)\n",
    "            # receipt()\n"
   ]
  },
  {
   "cell_type": "code",
   "execution_count": null,
   "metadata": {},
   "outputs": [],
   "source": []
  }
 ],
 "metadata": {
  "kernelspec": {
   "display_name": "Python 3 (ipykernel)",
   "language": "python",
   "name": "python3"
  },
  "language_info": {
   "codemirror_mode": {
    "name": "ipython",
    "version": 3
   },
   "file_extension": ".py",
   "mimetype": "text/x-python",
   "name": "python",
   "nbconvert_exporter": "python",
   "pygments_lexer": "ipython3",
   "version": "3.10.9"
  }
 },
 "nbformat": 4,
 "nbformat_minor": 2
}
