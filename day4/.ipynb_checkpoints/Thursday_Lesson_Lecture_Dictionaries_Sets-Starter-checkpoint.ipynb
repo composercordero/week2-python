{
 "cells": [
  {
   "cell_type": "markdown",
   "metadata": {},
   "source": [
    "## Data Collections 2 (Dictionaries, Sets)"
   ]
  },
  {
   "cell_type": "markdown",
   "metadata": {},
   "source": [
    "## Tasks Today:\n",
    "\n",
    "1) Dictionary <br>\n",
    " &nbsp;&nbsp;&nbsp;&nbsp; a) Declaring (key, value) <br>\n",
    " &nbsp;&nbsp;&nbsp;&nbsp; b) Accessing Values <br>\n",
    " &nbsp;&nbsp;&nbsp;&nbsp; ------ Exercise #1 - Print the eye color of each person in a double nested dict <br>\n",
    " &nbsp;&nbsp;&nbsp;&nbsp; c) Adding New Pairs <br>\n",
    " &nbsp;&nbsp;&nbsp;&nbsp; d) Modifying Values <br>\n",
    " &nbsp;&nbsp;&nbsp;&nbsp; e) Removing Key, Value Pairs <br>\n",
    " &nbsp;&nbsp;&nbsp;&nbsp; f) Looping a Dictionary <br>\n",
    " &nbsp;&nbsp;&nbsp;&nbsp; g) Looping Only Keys <br>\n",
    " &nbsp;&nbsp;&nbsp;&nbsp; h) Looping Only Values <br>\n",
    " &nbsp;&nbsp;&nbsp;&nbsp; ------ Exercise #2 - Create a Function that Prints All Key Value Pairs within a print .format()  <br>\n",
    " &nbsp;&nbsp;&nbsp;&nbsp; i) sorted() <br>\n",
    " &nbsp;&nbsp;&nbsp;&nbsp; j) Lists with Dictionaries <br>\n",
    " &nbsp;&nbsp;&nbsp;&nbsp; k) Dictionaries with Lists <br>\n",
    " &nbsp;&nbsp;&nbsp;&nbsp; l) Dictionaries with Dictionaries <br>\n",
    " &nbsp;&nbsp;&nbsp;&nbsp; ------ Exercise #3 - Write a Function that asks someone's name and address, and then stores that into a dictionary, which prints all names and addresses after they're done putting information in...  <br>\n",
    "2) Dictionaries vs. Lists (over time)<br>\n",
    "3) Set <br>\n",
    " &nbsp;&nbsp;&nbsp;&nbsp; a) Declaring <br>\n",
    " &nbsp;&nbsp;&nbsp;&nbsp; b) .add() <br>\n",
    " &nbsp;&nbsp;&nbsp;&nbsp; c) .remove() <br>\n",
    " &nbsp;&nbsp;&nbsp;&nbsp; d) .union() <br>\n",
    " &nbsp;&nbsp;&nbsp;&nbsp; e) .intersection() <br>\n",
    " &nbsp;&nbsp;&nbsp;&nbsp; f) .difference() <br>\n",
    " &nbsp;&nbsp;&nbsp;&nbsp; g) Frozen Set <br>\n",
    "\n",
    "5) Exercises <br>\n",
    " &nbsp;&nbsp;&nbsp;&nbsp; a) Address Book Program <br>\n",
    " &nbsp;&nbsp;&nbsp;&nbsp; b) Best Times to Meet <br>"
   ]
  },
  {
   "cell_type": "code",
   "execution_count": null,
   "metadata": {},
   "outputs": [],
   "source": []
  },
  {
   "cell_type": "markdown",
   "metadata": {},
   "source": [
    "#### Warm Up"
   ]
  },
  {
   "cell_type": "markdown",
   "metadata": {},
   "source": [
    "Given the list `address_book`, create a function that accepts a name (first or last or both) and returns the phone number of that name in the `address_book`. If the name is not in `address_book`, return -1.<br>\n",
    "\n",
    "Ex. 1<br>\n",
    "name = 'Hank'<br>\n",
    "Expected Output: '(555) 555-1234'<br>\n",
    "\n",
    "Ex. 2<br>\n",
    "name = 'Tevin'<br>\n",
    "Expected Output: '(333) 333-3245'<br>\n",
    "\n",
    "Ex. 3<br>\n",
    "name = 'Brian'<br>\n",
    "Expected Output: -1<br>"
   ]
  },
  {
   "cell_type": "code",
   "execution_count": 71,
   "metadata": {},
   "outputs": [
    {
     "name": "stdout",
     "output_type": "stream",
     "text": [
      "(445) 345-6821\n"
     ]
    }
   ],
   "source": [
    "address_book = [\n",
    "    ('Hank', 'Mardukas', '123 Real Street', '(555) 555-1234'),\n",
    "    ('Peter', 'Klaven', '321 Fake Street', '(555) 555-4321'),\n",
    "    ('Sydney', 'Fife', '555 Santa Monica Drive', '(222) 222-6789'),\n",
    "    ('Tevin', 'Downey', '100 Rodeo Blvd', '(333) 333-3245'),\n",
    "    ('Robby', '', '', '(445) 345-6821'),\n",
    "    ('432 Sound Ave', 'Mike', '(434) 345-6434', 'Wazowski')\n",
    "]\n",
    "\n",
    "def phone_search(name):\n",
    "    for first, last, address, phone in address_book:\n",
    "        if name.title() == first or name.title() == last:\n",
    "            return(phone)  \n",
    "    return -1\n",
    "    \n",
    "print(phone_search('robby'))"
   ]
  },
  {
   "cell_type": "code",
   "execution_count": 79,
   "metadata": {
    "scrolled": true
   },
   "outputs": [
    {
     "name": "stdout",
     "output_type": "stream",
     "text": [
      "(222) 222-6789\n"
     ]
    }
   ],
   "source": [
    "# Making if work for both\n",
    "# If data is in different order, it will ruin our function\n",
    "# Use Dictionary instead\n",
    "\n",
    "def phone_search(name):\n",
    "    for first, last, address, phone in address_book:\n",
    "        contact_name = (f'{first} {last}')\n",
    "        if name.title() in contact_name:\n",
    "            return(phone)  \n",
    "    return -1\n",
    "\n",
    "print(phone_search('sydney fife'))"
   ]
  },
  {
   "cell_type": "code",
   "execution_count": null,
   "metadata": {},
   "outputs": [],
   "source": [
    "\n"
   ]
  },
  {
   "cell_type": "markdown",
   "metadata": {},
   "source": [
    "## Dictionary <br>\n",
    "<p>A collection of data with 'key:value' pairs. Dictionaries are ordered as of Python 3.6</p>"
   ]
  },
  {
   "cell_type": "markdown",
   "metadata": {},
   "source": [
    "##### Declaring (key, value)"
   ]
  },
  {
   "cell_type": "code",
   "execution_count": 81,
   "metadata": {},
   "outputs": [
    {
     "name": "stdout",
     "output_type": "stream",
     "text": [
      "{}\n",
      "<class 'dict'>\n",
      "{}\n",
      "<class 'dict'>\n",
      "{'name': 'Carlos', 'city': 'Austin', 'color': 'Yellow'}\n"
     ]
    }
   ],
   "source": [
    "# Syntax: a_dict = {} or a_dict = dict() or a_dict = {'key': value, ...} or a_dict = dict(key=value)\n",
    "# Collection of data with key:value pairs.\n",
    "\n",
    "d1 = {}\n",
    "print(d1)\n",
    "print(type(d1))\n",
    "\n",
    "d2 = dict()\n",
    "print(d2)\n",
    "print(type(d2))\n",
    "\n",
    "d3 = {\n",
    "    'Hank' : '123 Real Street',\n",
    "    'Peter': '321 Fake Street',\n",
    "    'Sydney': '555 Santa Monica Blvd',\n",
    "    'Tevin': '1000 Rodeo Drive'\n",
    "}\n",
    "\n",
    "d4 = dict(name='Carlos', city='Austin', color='Yellow')\n",
    "print(d4)"
   ]
  },
  {
   "cell_type": "code",
   "execution_count": null,
   "metadata": {},
   "outputs": [],
   "source": []
  },
  {
   "cell_type": "markdown",
   "metadata": {},
   "source": [
    "##### Accessing Values"
   ]
  },
  {
   "cell_type": "code",
   "execution_count": null,
   "metadata": {},
   "outputs": [],
   "source": []
  },
  {
   "cell_type": "code",
   "execution_count": 83,
   "metadata": {},
   "outputs": [
    {
     "name": "stdout",
     "output_type": "stream",
     "text": [
      "Carlos\n"
     ]
    }
   ],
   "source": [
    "# dict[key]\n",
    "\n",
    "d4 = dict(name='Carlos', city='Austin', color='Yellow')\n",
    "\n",
    "print(d4['name'])\n"
   ]
  },
  {
   "cell_type": "code",
   "execution_count": null,
   "metadata": {},
   "outputs": [],
   "source": []
  },
  {
   "cell_type": "code",
   "execution_count": null,
   "metadata": {},
   "outputs": [],
   "source": []
  },
  {
   "cell_type": "markdown",
   "metadata": {},
   "source": [
    "##### .get()"
   ]
  },
  {
   "cell_type": "code",
   "execution_count": 84,
   "metadata": {},
   "outputs": [
    {
     "name": "stdout",
     "output_type": "stream",
     "text": [
      "Help on method_descriptor:\n",
      "\n",
      "get(self, key, default=None, /)\n",
      "    Return the value for key if key is in the dictionary, else default.\n",
      "\n"
     ]
    }
   ],
   "source": [
    "help(dict.get)"
   ]
  },
  {
   "cell_type": "code",
   "execution_count": 92,
   "metadata": {},
   "outputs": [
    {
     "name": "stdout",
     "output_type": "stream",
     "text": [
      "None\n",
      "The key entered does not exist\n",
      "Carlos\n",
      "None\n"
     ]
    }
   ],
   "source": [
    "# dict.get('key') or dict.get('key', value_if_no_key)\n",
    "# Dictionary are mutable\n",
    "\n",
    "print(d4.get('Carlos')) # None because Carlos is not a key\n",
    "print(d4.get('Carlos', 'The key entered does not exist')) # dict.get('key', value_if_no_key)\n",
    "\n",
    "print(d4.get('name'))\n",
    "print(d4.get('NAME')) # Case sensitive\n",
    "\n"
   ]
  },
  {
   "cell_type": "markdown",
   "metadata": {},
   "source": [
    "## In-Class Exercise #1 - Print a formatted statement from the dictionary below <br>\n",
    "<p>The output should be 'My favorite car is a 2018 Chevrolet Silverado'</p>"
   ]
  },
  {
   "cell_type": "code",
   "execution_count": 96,
   "metadata": {},
   "outputs": [
    {
     "name": "stdout",
     "output_type": "stream",
     "text": [
      "My favorite car is a 2018 Chevrolet Silverado\n",
      "My favorite car is a 2023 Toyota Yaris\n"
     ]
    }
   ],
   "source": [
    "# use the dict below\n",
    "truck = {\n",
    "    'year': 2018,\n",
    "    'make': 'Chevrolet',\n",
    "    'model': 'Silverado'\n",
    "}\n",
    "\n",
    "car = {\n",
    "    'year': 2023,\n",
    "    'make': 'Toyota',\n",
    "    'model': 'Yaris'\n",
    "}\n",
    "\n",
    "def fav_car(info):\n",
    "    return f\"My favorite car is a {info.get('year')} {info.get('make')} {info.get('model')}\"\n",
    "\n",
    "print(fav_car(truck))\n",
    "print(fav_car(car))"
   ]
  },
  {
   "cell_type": "code",
   "execution_count": 103,
   "metadata": {},
   "outputs": [
    {
     "name": "stdout",
     "output_type": "stream",
     "text": [
      "My favorite car is a 2018 Chevrolet Silverado\n",
      "My favorite car is a 2023 Toyota Yaris\n",
      "My favorite car is a 2023 Mazda Camry\n"
     ]
    }
   ],
   "source": [
    "trucks = [\n",
    "    {'year': 2018,\n",
    "    'make': 'Chevrolet',\n",
    "    'model': 'Silverado'}\n",
    "    \n",
    "    ,{'year': 2023,\n",
    "    'make': 'Toyota',\n",
    "    'model': 'Yaris'}\n",
    "    \n",
    "    ,{'model': 'Camry',\n",
    "    'year': 2023,\n",
    "    'make': 'Mazda',\n",
    "    }\n",
    "]\n",
    "    \n",
    "for truck in trucks:\n",
    "    print(f\"My favorite car is a {truck.get('year')} {truck.get('make')} {truck.get('model')}\")\n"
   ]
  },
  {
   "cell_type": "markdown",
   "metadata": {},
   "source": [
    "##### Adding New Pairs"
   ]
  },
  {
   "cell_type": "code",
   "execution_count": 106,
   "metadata": {},
   "outputs": [
    {
     "name": "stdout",
     "output_type": "stream",
     "text": [
      "{'name': 'Carlos', 'city': 'Austin', 'color': 'Yellow'}\n"
     ]
    }
   ],
   "source": [
    "print(d4)"
   ]
  },
  {
   "cell_type": "code",
   "execution_count": 114,
   "metadata": {},
   "outputs": [
    {
     "name": "stdout",
     "output_type": "stream",
     "text": [
      "{'name': 'Carlos', 'city': 'Austin', 'color': 'Yellow', 'Zoey': '345 Main Street'}\n"
     ]
    }
   ],
   "source": [
    "# dict[key] = value\n",
    "\n",
    "d4['Zoey'] = '345 Main Street'\n",
    "\n",
    "print(d4)\n"
   ]
  },
  {
   "cell_type": "markdown",
   "metadata": {},
   "source": [
    "##### Modifying Values"
   ]
  },
  {
   "cell_type": "code",
   "execution_count": 113,
   "metadata": {},
   "outputs": [
    {
     "name": "stdout",
     "output_type": "stream",
     "text": [
      "{'name': 'Carlos', 'city': 'Austin', 'color': 'Yellow', 'Zoey': '852 Another address'}\n"
     ]
    }
   ],
   "source": [
    "# dict[key] = value\n",
    "d4['Zoey'] = '852 Another address'\n",
    "\n",
    "print(d4)"
   ]
  },
  {
   "cell_type": "markdown",
   "metadata": {},
   "source": [
    "##### Removing Key, Value Pairs"
   ]
  },
  {
   "cell_type": "code",
   "execution_count": 116,
   "metadata": {},
   "outputs": [
    {
     "name": "stdout",
     "output_type": "stream",
     "text": [
      "{'name': 'Carlos', 'city': 'Austin', 'color': 'Yellow'}\n"
     ]
    }
   ],
   "source": [
    "# del dict[key]\n",
    "\n",
    "del d4['Zoey']\n",
    "\n",
    "print(d4)"
   ]
  },
  {
   "cell_type": "code",
   "execution_count": null,
   "metadata": {},
   "outputs": [],
   "source": []
  },
  {
   "cell_type": "code",
   "execution_count": 117,
   "metadata": {},
   "outputs": [
    {
     "name": "stdout",
     "output_type": "stream",
     "text": [
      "Help on method_descriptor:\n",
      "\n",
      "pop(...)\n",
      "    D.pop(k[,d]) -> v, remove specified key and return the corresponding value.\n",
      "    \n",
      "    If the key is not found, return the default if given; otherwise,\n",
      "    raise a KeyError.\n",
      "\n"
     ]
    }
   ],
   "source": [
    "help(dict.pop)"
   ]
  },
  {
   "cell_type": "code",
   "execution_count": 120,
   "metadata": {},
   "outputs": [
    {
     "name": "stdout",
     "output_type": "stream",
     "text": [
      "{'name': 'Carlos', 'city': 'Austin', 'color': 'Yellow', 'Zoey': '852 Another address'}\n",
      "852 Another address\n",
      "{'name': 'Carlos', 'city': 'Austin', 'color': 'Yellow'}\n"
     ]
    }
   ],
   "source": [
    "# dict.pop('key') - remove key,value pair - returns value back to caller\n",
    "\n",
    "d4['Zoey'] = '852 Another address'\n",
    "\n",
    "print(d4)\n",
    "\n",
    "removed_value = d4.pop('Zoey', 'Not in dictionary')\n",
    "\n",
    "print(removed_value)\n",
    "\n",
    "print(d4)\n"
   ]
  },
  {
   "cell_type": "code",
   "execution_count": 121,
   "metadata": {},
   "outputs": [
    {
     "data": {
      "text/plain": [
       "{'Hank': '123 Real Street',\n",
       " 'Peter': '321 Fake Street',\n",
       " 'Sydney': '555 Santa Monica Blvd',\n",
       " 'Tevin': '1000 Rodeo Drive'}"
      ]
     },
     "execution_count": 121,
     "metadata": {},
     "output_type": "execute_result"
    }
   ],
   "source": [
    "d3"
   ]
  },
  {
   "cell_type": "code",
   "execution_count": null,
   "metadata": {},
   "outputs": [],
   "source": []
  },
  {
   "cell_type": "markdown",
   "metadata": {},
   "source": [
    "##### Looping a Dictionary"
   ]
  },
  {
   "cell_type": "code",
   "execution_count": 122,
   "metadata": {},
   "outputs": [
    {
     "name": "stdout",
     "output_type": "stream",
     "text": [
      "Help on method_descriptor:\n",
      "\n",
      "items(...)\n",
      "    D.items() -> a set-like object providing a view on D's items\n",
      "\n"
     ]
    }
   ],
   "source": [
    "help(dict.items)"
   ]
  },
  {
   "cell_type": "code",
   "execution_count": 123,
   "metadata": {},
   "outputs": [
    {
     "name": "stdout",
     "output_type": "stream",
     "text": [
      "dict_items([('Hank', '123 Real Street'), ('Peter', '321 Fake Street'), ('Sydney', '555 Santa Monica Blvd'), ('Tevin', '1000 Rodeo Drive')])\n"
     ]
    }
   ],
   "source": [
    "# .items()\n",
    "\n",
    "print(d3.items())"
   ]
  },
  {
   "cell_type": "code",
   "execution_count": 124,
   "metadata": {
    "scrolled": true
   },
   "outputs": [
    {
     "name": "stdout",
     "output_type": "stream",
     "text": [
      "('Hank', '123 Real Street') <class 'tuple'>\n",
      "('Peter', '321 Fake Street') <class 'tuple'>\n",
      "('Sydney', '555 Santa Monica Blvd') <class 'tuple'>\n",
      "('Tevin', '1000 Rodeo Drive') <class 'tuple'>\n"
     ]
    }
   ],
   "source": [
    "for item in d3.items():\n",
    "    print(item, type(item))"
   ]
  },
  {
   "cell_type": "code",
   "execution_count": 125,
   "metadata": {},
   "outputs": [
    {
     "name": "stdout",
     "output_type": "stream",
     "text": [
      "Key: Hank / Value: 123 Real Street\n",
      "Key: Peter / Value: 321 Fake Street\n",
      "Key: Sydney / Value: 555 Santa Monica Blvd\n",
      "Key: Tevin / Value: 1000 Rodeo Drive\n"
     ]
    }
   ],
   "source": [
    "for key, value in d3.items():\n",
    "    print(f\"Key: {key} / Value: {value}\")"
   ]
  },
  {
   "cell_type": "code",
   "execution_count": 126,
   "metadata": {},
   "outputs": [
    {
     "name": "stdout",
     "output_type": "stream",
     "text": [
      "Hank lives at 123 Real Street\n",
      "Peter lives at 321 Fake Street\n",
      "Sydney lives at 555 Santa Monica Blvd\n",
      "Tevin lives at 1000 Rodeo Drive\n"
     ]
    }
   ],
   "source": [
    "for name, address in d3.items():\n",
    "    print(f\"{name} lives at {address}\")"
   ]
  },
  {
   "cell_type": "markdown",
   "metadata": {},
   "source": [
    "##### Looping Only Keys"
   ]
  },
  {
   "cell_type": "code",
   "execution_count": 127,
   "metadata": {},
   "outputs": [
    {
     "name": "stdout",
     "output_type": "stream",
     "text": [
      "{'Hank': '123 Real Street', 'Peter': '321 Fake Street', 'Sydney': '555 Santa Monica Blvd', 'Tevin': '1000 Rodeo Drive'}\n"
     ]
    }
   ],
   "source": [
    "print(d3)"
   ]
  },
  {
   "cell_type": "code",
   "execution_count": 128,
   "metadata": {},
   "outputs": [
    {
     "name": "stdout",
     "output_type": "stream",
     "text": [
      "Hank\n",
      "Peter\n",
      "Sydney\n",
      "Tevin\n"
     ]
    }
   ],
   "source": [
    "# .keys()\n",
    "for key in d3.keys():\n",
    "    print(key)"
   ]
  },
  {
   "cell_type": "code",
   "execution_count": 131,
   "metadata": {},
   "outputs": [
    {
     "name": "stdout",
     "output_type": "stream",
     "text": [
      "Hank\n",
      "Peter\n",
      "Sydney\n",
      "Tevin\n"
     ]
    }
   ],
   "source": [
    "for k in d3:\n",
    "    print(k)"
   ]
  },
  {
   "cell_type": "code",
   "execution_count": 133,
   "metadata": {},
   "outputs": [
    {
     "name": "stdout",
     "output_type": "stream",
     "text": [
      "Hank 123 Real Street\n",
      "Peter 321 Fake Street\n",
      "Sydney 555 Santa Monica Blvd\n",
      "Tevin 1000 Rodeo Drive\n"
     ]
    }
   ],
   "source": [
    "# Access the value through the key loop\n",
    "\n",
    "for key in d3.keys():\n",
    "    print(key, d3[key])"
   ]
  },
  {
   "cell_type": "markdown",
   "metadata": {},
   "source": [
    "##### Looping Only Values"
   ]
  },
  {
   "cell_type": "code",
   "execution_count": null,
   "metadata": {},
   "outputs": [],
   "source": []
  },
  {
   "cell_type": "code",
   "execution_count": 132,
   "metadata": {},
   "outputs": [
    {
     "name": "stdout",
     "output_type": "stream",
     "text": [
      "123 Real Street\n",
      "321 Fake Street\n",
      "555 Santa Monica Blvd\n",
      "1000 Rodeo Drive\n"
     ]
    }
   ],
   "source": [
    "# .values()\n",
    "\n",
    "for key in d3.values():\n",
    "    print(key)"
   ]
  },
  {
   "cell_type": "code",
   "execution_count": null,
   "metadata": {},
   "outputs": [],
   "source": []
  },
  {
   "cell_type": "code",
   "execution_count": null,
   "metadata": {},
   "outputs": [],
   "source": []
  },
  {
   "cell_type": "markdown",
   "metadata": {},
   "source": [
    "## In-Class Exercise #2 - Create a Function that Prints All Key Value Pairs within a print .format() or f-string <br>\n",
    "<p><b>Output should be:</b><br>\n",
    "Max has blue eyes<br>\n",
    "Lilly has brown eyes<br>\n",
    "Barney has blue eyes<br>\n",
    "etc.\n",
    "</p>"
   ]
  },
  {
   "cell_type": "code",
   "execution_count": 142,
   "metadata": {},
   "outputs": [
    {
     "name": "stdout",
     "output_type": "stream",
     "text": [
      "Max has blue eyes\n",
      "Lilly has brown eyes\n",
      "Barney has blue eyes\n",
      "Larney has brown eyes\n",
      "Ted has purple eyes\n"
     ]
    }
   ],
   "source": [
    "# use the dict below\n",
    "\n",
    "people = {\n",
    "    'Max': 'blue',\n",
    "    'Lilly': 'brown',\n",
    "    'Barney': 'blue',\n",
    "    'Larney': 'brown',\n",
    "    'Ted': 'purple'\n",
    "}\n",
    "\n",
    "def eyes(people):\n",
    "    for key,value in people.items():\n",
    "        print(f\"{key} has {value} eyes\")\n",
    "\n",
    "eyes(people)"
   ]
  },
  {
   "cell_type": "code",
   "execution_count": 147,
   "metadata": {},
   "outputs": [
    {
     "name": "stdout",
     "output_type": "stream",
     "text": [
      "[1, 'hello', 1.23, True, <built-in function len>, {'title': 'Happy Thursday', 'body': 'Tomorrow is Friday'}]\n"
     ]
    }
   ],
   "source": [
    "my_li = [1, \"hello\", 1.23, True, len, {'title': 'Happy Thursday', 'body': 'Tomorrow is Friday'}]\n",
    "\n",
    "print(my_li)"
   ]
  },
  {
   "cell_type": "code",
   "execution_count": 150,
   "metadata": {},
   "outputs": [
    {
     "name": "stdout",
     "output_type": "stream",
     "text": [
      "{'title': 'Happy Thursday', 'body': 'Tomorrow is Friday'} <class 'dict'>\n",
      "Happy Thursday\n",
      "Tomorrow is Friday\n",
      "dict_keys(['title', 'body'])\n"
     ]
    }
   ],
   "source": [
    "print(my_li[5], type(my_li[5]))\n",
    "print(my_li[5]['title'])\n",
    "\n",
    "print(my_li[5].get('body'))\n",
    "print(my_li[5].keys())"
   ]
  },
  {
   "cell_type": "code",
   "execution_count": null,
   "metadata": {},
   "outputs": [],
   "source": []
  },
  {
   "cell_type": "code",
   "execution_count": null,
   "metadata": {},
   "outputs": [],
   "source": []
  },
  {
   "cell_type": "markdown",
   "metadata": {},
   "source": [
    "##### List with Dictionaries"
   ]
  },
  {
   "cell_type": "code",
   "execution_count": 151,
   "metadata": {},
   "outputs": [
    {
     "name": "stdout",
     "output_type": "stream",
     "text": [
      "[{'title': 'Inception', 'director': 'Christopher Nolan', 'release_year': 2010}, {'title': 'The Social Network', 'director': 'David Fincher', 'release_year': 2010}, {'title': 'The Departed', 'director': 'Martin Scorsese', 'release_year': 2006}, {'release_year': 2019, 'title': 'Parasite', 'director': 'Bong Joon Ho'}]\n",
      "<class 'list'>\n"
     ]
    }
   ],
   "source": [
    "movies = [\n",
    "    {'title': 'Inception', 'director': 'Christopher Nolan', 'release_year': 2010},\n",
    "    {'title': 'The Social Network', 'director': 'David Fincher', 'release_year': 2010},\n",
    "    {'title': 'The Departed', 'director': 'Martin Scorsese', 'release_year': 2006},\n",
    "    {'release_year': 2019, 'title': 'Parasite', 'director': 'Bong Joon Ho'}\n",
    "]\n",
    "\n",
    "print(movies)\n",
    "print(type(movies))"
   ]
  },
  {
   "cell_type": "code",
   "execution_count": 153,
   "metadata": {
    "scrolled": true
   },
   "outputs": [
    {
     "name": "stdout",
     "output_type": "stream",
     "text": [
      "Title: Inception - Directed By: Christopher Nolan - 2010\n",
      "Title: The Social Network - Directed By: David Fincher - 2010\n",
      "Title: The Departed - Directed By: Martin Scorsese - 2006\n",
      "Title: Parasite - Directed By: Bong Joon Ho - 2019\n"
     ]
    }
   ],
   "source": [
    "for movie in movies:\n",
    "    print(f\"Title: {movie.get('title')} - Directed By: {movie.get('director')} - {movie.get('release_year')}\")"
   ]
  },
  {
   "cell_type": "code",
   "execution_count": null,
   "metadata": {},
   "outputs": [],
   "source": []
  },
  {
   "cell_type": "code",
   "execution_count": null,
   "metadata": {},
   "outputs": [],
   "source": []
  },
  {
   "cell_type": "markdown",
   "metadata": {},
   "source": [
    "##### List of Dictionaries"
   ]
  },
  {
   "cell_type": "code",
   "execution_count": null,
   "metadata": {},
   "outputs": [],
   "source": []
  },
  {
   "cell_type": "code",
   "execution_count": null,
   "metadata": {},
   "outputs": [],
   "source": []
  },
  {
   "cell_type": "markdown",
   "metadata": {},
   "source": [
    "##### Dictionaries with Lists"
   ]
  },
  {
   "cell_type": "code",
   "execution_count": 157,
   "metadata": {},
   "outputs": [
    {
     "name": "stdout",
     "output_type": "stream",
     "text": [
      "{'list1': [10, 20, 30], 'list2': ['a', 'b', 'c']}\n",
      "['a', 'b', 'c']\n",
      "a\n"
     ]
    }
   ],
   "source": [
    "# be careful when using numbers as keys in dictionaries, don't confuse them with indexes\n",
    "random_data = {\n",
    "    'list1': [10,20,30],\n",
    "    'list2': ['a', 'b', 'c']\n",
    "}\n",
    "\n",
    "print(random_data)\n",
    "print(random_data['list2'])\n",
    "print(random_data['list2'][0]) #Because it is a list "
   ]
  },
  {
   "cell_type": "code",
   "execution_count": null,
   "metadata": {},
   "outputs": [],
   "source": []
  },
  {
   "cell_type": "markdown",
   "metadata": {},
   "source": [
    "##### Dictionaries with Dictionaries"
   ]
  },
  {
   "cell_type": "code",
   "execution_count": 158,
   "metadata": {},
   "outputs": [
    {
     "name": "stdout",
     "output_type": "stream",
     "text": [
      "{'ice_cream': {'vanilla': 2.99, 'chocolate': 2.99, 'oreo': 3.49}, 'milkshake': {'vanilla': 3.99, 'chocolate': 3.99, 'oreo': 4.49}}\n",
      "dict_keys(['ice_cream', 'milkshake'])\n",
      "{'vanilla': 2.99, 'chocolate': 2.99, 'oreo': 3.49} <class 'dict'>\n",
      "2.99\n",
      "4.49\n"
     ]
    }
   ],
   "source": [
    "# to get values, must traverse through keys\n",
    "\n",
    "my_shoppe = {\n",
    "    'ice_cream': {\n",
    "        'vanilla': 2.99,\n",
    "        'chocolate': 2.99,\n",
    "        'oreo': 3.49\n",
    "    },\n",
    "    'milkshake': {\n",
    "        'vanilla': 3.99,\n",
    "        'chocolate': 3.99,\n",
    "        'oreo': 4.49\n",
    "    }\n",
    "}\n",
    "\n",
    "print(my_shoppe)\n",
    "print(my_shoppe.keys())\n",
    "print(my_shoppe['ice_cream'], type(my_shoppe['ice_cream']))\n",
    "print(my_shoppe['ice_cream']['chocolate'])\n",
    "print(my_shoppe.get('milkshake').get('oreo'))"
   ]
  },
  {
   "cell_type": "code",
   "execution_count": 159,
   "metadata": {},
   "outputs": [],
   "source": [
    "job_app = {\n",
    "    'full_name': 'Jimmy Smith',\n",
    "    'email': 'jsmith@email.com',\n",
    "    'prog_languages': [\n",
    "        {\n",
    "            'name': 'Python',\n",
    "            'proficiency': 8\n",
    "        },\n",
    "        {\n",
    "            'name': 'JavaScript',\n",
    "            'proficiency': 5\n",
    "        }\n",
    "    ],\n",
    "    'experience': [\n",
    "        {\n",
    "            'company': 'Omnicorp',\n",
    "            'position': 'bossman',\n",
    "            'years_at_company': [2010, 2011, 2012, 2013]\n",
    "        },\n",
    "        {\n",
    "            'company': 'AlphaInc',\n",
    "            'position': 'QA',\n",
    "            'years_at_company': [2014, 2015]\n",
    "        }\n",
    "    ],\n",
    "    'us_citizen': True\n",
    "}\n"
   ]
  },
  {
   "cell_type": "code",
   "execution_count": 167,
   "metadata": {},
   "outputs": [
    {
     "name": "stdout",
     "output_type": "stream",
     "text": [
      "Jimmy Smith worked at AlphaInc for 2 years\n"
     ]
    }
   ],
   "source": [
    "# How many years did Jimmy Smith work at AlphaInc?\n",
    "\n",
    "print(f\"{job_app['full_name']} worked at {job_app['experience'][1]['company']} for {len(job_app['experience'][1]['years_at_company'])} years\")"
   ]
  },
  {
   "cell_type": "code",
   "execution_count": 169,
   "metadata": {
    "scrolled": true
   },
   "outputs": [
    {
     "name": "stdout",
     "output_type": "stream",
     "text": [
      "Jimmy Smith worked at Omnicorp for 4 years\n",
      "Jimmy Smith worked at AlphaInc for 2 years\n"
     ]
    }
   ],
   "source": [
    "for i in range(len(job_app['experience'])):\n",
    "    print(f\"{job_app['full_name']} worked at {job_app['experience'][i]['company']} for {len(job_app['experience'][i]['years_at_company'])} years\")"
   ]
  },
  {
   "cell_type": "code",
   "execution_count": 170,
   "metadata": {},
   "outputs": [
    {
     "name": "stdout",
     "output_type": "stream",
     "text": [
      "[1, 2, 3, 4, 5, 6, 7, 8, 9, 10]\n"
     ]
    }
   ],
   "source": [
    "# List Comprehension\n",
    "# [transform iterable filter]\n",
    "\n",
    "my_new_li = [x for x in range(1,11)]\n",
    "print(my_new_li)"
   ]
  },
  {
   "cell_type": "code",
   "execution_count": 171,
   "metadata": {},
   "outputs": [
    {
     "name": "stdout",
     "output_type": "stream",
     "text": [
      "{1: 2, 2: 4, 3: 6, 4: 8, 5: 10, 6: 12, 7: 14, 8: 16, 9: 18, 10: 20}\n"
     ]
    }
   ],
   "source": [
    "# Dictionary Comprehension\n",
    "# {transform key:vale iterable filter}\n",
    "\n",
    "my_new_dict = {x: x*2 for x in range(1,11)}\n",
    "print(my_new_dict)"
   ]
  },
  {
   "cell_type": "code",
   "execution_count": 178,
   "metadata": {},
   "outputs": [
    {
     "name": "stdout",
     "output_type": "stream",
     "text": [
      "['a', 'b', 'c', 'd', 'e', 'f', 'g', 'h', 'i', 'j', 'k', 'l', 'm', 'n', 'o', 'p', 'q', 'r', 's', 't', 'u', 'v', 'w', 'x', 'y', 'z']\n"
     ]
    }
   ],
   "source": [
    "alphabet = []\n",
    "for i in range(26):\n",
    "    alphabet.append(chr(i+97))\n",
    "    \n",
    "print(alphabet)"
   ]
  },
  {
   "cell_type": "code",
   "execution_count": 179,
   "metadata": {
    "scrolled": true
   },
   "outputs": [
    {
     "name": "stdout",
     "output_type": "stream",
     "text": [
      "['A', 'B', 'C', 'D', 'E', 'F', 'G', 'H', 'I', 'J', 'K', 'L', 'M', 'N', 'O', 'P', 'Q', 'R', 'S', 'T', 'U', 'V', 'W', 'X', 'Y', 'Z']\n"
     ]
    }
   ],
   "source": [
    "caps = [chr(i+65) for i in range(26)]\n",
    "print(caps)"
   ]
  },
  {
   "cell_type": "code",
   "execution_count": 185,
   "metadata": {},
   "outputs": [
    {
     "name": "stdout",
     "output_type": "stream",
     "text": [
      "{65: 'A', 66: 'B', 67: 'C', 68: 'D', 69: 'E', 70: 'F', 71: 'G', 72: 'H', 73: 'I', 74: 'J', 75: 'K', 76: 'L', 77: 'M', 78: 'N', 79: 'O', 80: 'P', 81: 'Q', 82: 'R', 83: 'S', 84: 'T', 85: 'U', 86: 'V', 87: 'W', 88: 'X', 89: 'Y', 90: 'Z'}\n",
      "{97: 'a', 98: 'b', 99: 'c', 100: 'd', 101: 'e', 102: 'f', 103: 'g', 104: 'h', 105: 'i', 106: 'j', 107: 'k', 108: 'l', 109: 'm', 110: 'n', 111: 'o', 112: 'p', 113: 'q', 114: 'r', 115: 's', 116: 't', 117: 'u', 118: 'v', 119: 'w', 120: 'x', 121: 'y', 122: 'z'}\n"
     ]
    }
   ],
   "source": [
    "caps = {i+65: chr(i+65) for i in range(26)}\n",
    "print(caps)\n",
    "\n",
    "lower = {i+97: chr(i+97) for i in range(26)}\n",
    "print(lower)"
   ]
  },
  {
   "cell_type": "markdown",
   "metadata": {},
   "source": [
    "## Dictionaries vs. Lists (over time) Example of RUNTIME\n",
    "### When inputting values in a Dictionary vs List"
   ]
  },
  {
   "cell_type": "code",
   "execution_count": 172,
   "metadata": {},
   "outputs": [],
   "source": [
    "import time\n",
    "\n",
    "\n",
    "# generate fake dictionary\n",
    "big_dictionary = {i: 'value' for i in range(10000000)}\n",
    "    \n",
    "\n",
    "# generate fake list\n",
    "big_list = [x for x in range(10000000)]"
   ]
  },
  {
   "cell_type": "code",
   "execution_count": 174,
   "metadata": {},
   "outputs": [
    {
     "data": {
      "text/plain": [
       "1689880729.961867"
      ]
     },
     "execution_count": 174,
     "metadata": {},
     "output_type": "execute_result"
    }
   ],
   "source": [
    "time.time()"
   ]
  },
  {
   "cell_type": "code",
   "execution_count": 177,
   "metadata": {},
   "outputs": [
    {
     "name": "stdout",
     "output_type": "stream",
     "text": [
      "True\n",
      "Elapsed time for dictionary: 0.00029778480529785156\n",
      "True\n",
      "Elapsed time for list: 0.1131131649017334\n"
     ]
    }
   ],
   "source": [
    "# tracking time for set\n",
    "start_time = time.time()\n",
    "\n",
    "print(9999999 in big_dictionary)\n",
    "\n",
    "end_time = time.time()\n",
    "\n",
    "elapsed_time = end_time - start_time\n",
    "\n",
    "print(f'Elapsed time for dictionary: {elapsed_time}')\n",
    "\n",
    "\n",
    "# tracking time for list\n",
    "start_time = time.time()\n",
    "\n",
    "print(9999999 in big_list)\n",
    "\n",
    "end_time = time.time()\n",
    "\n",
    "elapsed_time = end_time - start_time\n",
    "\n",
    "print(f'Elapsed time for list: {elapsed_time}')"
   ]
  },
  {
   "cell_type": "markdown",
   "metadata": {},
   "source": [
    "## Set <br>\n",
    "<p>A Set is an unordered collection data type that is iterable (loop), mutable, and has no duplicate elements.<br>Major advantage is that it is highly optimized in checking if something is in the set, as opposed to checking if something is in a list.</p>"
   ]
  },
  {
   "cell_type": "markdown",
   "metadata": {},
   "source": [
    "##### Declaring"
   ]
  },
  {
   "cell_type": "code",
   "execution_count": 193,
   "metadata": {},
   "outputs": [
    {
     "name": "stdout",
     "output_type": "stream",
     "text": [
      "set()\n",
      "<class 'set'>\n",
      "<class 'dict'>\n"
     ]
    }
   ],
   "source": [
    "# set() or {val,}\n",
    "# no order {3, 2, 1} output as {1, 2, 3}\n",
    "\n",
    "first_set = set()\n",
    "print(first_set)\n",
    "print(type(first_set))\n",
    "the_dict = {} # This will create an empty dict\n",
    "print(type(the_dict))"
   ]
  },
  {
   "cell_type": "code",
   "execution_count": 192,
   "metadata": {},
   "outputs": [
    {
     "name": "stdout",
     "output_type": "stream",
     "text": [
      "{1, 3, 5, 87}\n",
      "<class 'set'>\n"
     ]
    }
   ],
   "source": [
    "second_set = {3, 1, 5, 87}\n",
    "print(second_set)\n",
    "print(type(second_set))"
   ]
  },
  {
   "cell_type": "code",
   "execution_count": 198,
   "metadata": {},
   "outputs": [
    {
     "name": "stdout",
     "output_type": "stream",
     "text": [
      "{1, 2, 3}\n"
     ]
    }
   ],
   "source": [
    "# Set ignores repeated values\n",
    "\n",
    "third_set = {1,1,1,1,1,1,2,2,2,2,3,3,3,3,3}\n",
    "print(third_set)"
   ]
  },
  {
   "cell_type": "code",
   "execution_count": null,
   "metadata": {},
   "outputs": [],
   "source": []
  },
  {
   "cell_type": "code",
   "execution_count": null,
   "metadata": {},
   "outputs": [],
   "source": []
  },
  {
   "cell_type": "code",
   "execution_count": null,
   "metadata": {},
   "outputs": [],
   "source": []
  },
  {
   "cell_type": "code",
   "execution_count": null,
   "metadata": {},
   "outputs": [],
   "source": []
  },
  {
   "cell_type": "markdown",
   "metadata": {},
   "source": [
    "##### .add()"
   ]
  },
  {
   "cell_type": "code",
   "execution_count": 196,
   "metadata": {},
   "outputs": [
    {
     "name": "stdout",
     "output_type": "stream",
     "text": [
      "{1, 3, 195, 5, 19, 87}\n"
     ]
    }
   ],
   "source": [
    "# adds an element to the set, in no order in particular\n",
    "\n",
    "second_set.add(195)\n",
    "print(second_set)"
   ]
  },
  {
   "cell_type": "code",
   "execution_count": null,
   "metadata": {},
   "outputs": [],
   "source": []
  },
  {
   "cell_type": "code",
   "execution_count": null,
   "metadata": {},
   "outputs": [],
   "source": []
  },
  {
   "cell_type": "code",
   "execution_count": null,
   "metadata": {},
   "outputs": [],
   "source": []
  },
  {
   "cell_type": "markdown",
   "metadata": {},
   "source": [
    "##### .remove()"
   ]
  },
  {
   "cell_type": "code",
   "execution_count": 199,
   "metadata": {},
   "outputs": [
    {
     "ename": "KeyError",
     "evalue": "200",
     "output_type": "error",
     "traceback": [
      "\u001b[0;31m---------------------------------------------------------------------------\u001b[0m",
      "\u001b[0;31mKeyError\u001b[0m                                  Traceback (most recent call last)",
      "Cell \u001b[0;32mIn[199], line 3\u001b[0m\n\u001b[1;32m      1\u001b[0m \u001b[38;5;66;03m# When using the remove, the element must exist in the set or else there will be an error\u001b[39;00m\n\u001b[0;32m----> 3\u001b[0m \u001b[43mthird_set\u001b[49m\u001b[38;5;241;43m.\u001b[39;49m\u001b[43mremove\u001b[49m\u001b[43m(\u001b[49m\u001b[38;5;241;43m200\u001b[39;49m\u001b[43m)\u001b[49m\n\u001b[1;32m      4\u001b[0m \u001b[38;5;28mprint\u001b[39m(third_set)\n",
      "\u001b[0;31mKeyError\u001b[0m: 200"
     ]
    }
   ],
   "source": [
    "# When using the remove, the element must exist in the set or else there will be an error\n",
    "\n",
    "third_set.remove(200)\n",
    "print(third_set)"
   ]
  },
  {
   "cell_type": "code",
   "execution_count": null,
   "metadata": {},
   "outputs": [],
   "source": [
    "# Sets can have any immutable type as a member - int, float, boolearn, str, tuple, class objects\n",
    "\n"
   ]
  },
  {
   "cell_type": "code",
   "execution_count": null,
   "metadata": {
    "scrolled": true
   },
   "outputs": [],
   "source": []
  },
  {
   "cell_type": "markdown",
   "metadata": {},
   "source": [
    "##### .union() "
   ]
  },
  {
   "cell_type": "code",
   "execution_count": null,
   "metadata": {},
   "outputs": [],
   "source": []
  },
  {
   "cell_type": "code",
   "execution_count": 200,
   "metadata": {},
   "outputs": [
    {
     "name": "stdout",
     "output_type": "stream",
     "text": [
      "{1, 2, 3, 4, 5, 6, 7}\n",
      "{1, 2, 3, 4, 5, 6, 7}\n"
     ]
    }
   ],
   "source": [
    "# Returns a union of two sets, can also use '|' or set.union(set)\n",
    "# joins all numbers, gets rid of duplicates\n",
    "\n",
    "s1 = {1,2,3,4}\n",
    "s2 = {3,4,5,6}\n",
    "\n",
    "s3 = s1.union(s2)\n",
    "print(s3)\n",
    "\n",
    "# OR\n",
    "\n",
    "s4 = s2 | s1\n",
    "print(s4)"
   ]
  },
  {
   "cell_type": "code",
   "execution_count": null,
   "metadata": {},
   "outputs": [],
   "source": []
  },
  {
   "cell_type": "markdown",
   "metadata": {},
   "source": [
    "##### .intersection()"
   ]
  },
  {
   "cell_type": "code",
   "execution_count": 201,
   "metadata": {},
   "outputs": [
    {
     "name": "stdout",
     "output_type": "stream",
     "text": [
      "Help on method_descriptor:\n",
      "\n",
      "intersection(...)\n",
      "    Return the intersection of two sets as a new set.\n",
      "    \n",
      "    (i.e. all elements that are in both sets.)\n",
      "\n"
     ]
    }
   ],
   "source": [
    "help(set.intersection)"
   ]
  },
  {
   "cell_type": "code",
   "execution_count": 206,
   "metadata": {
    "scrolled": true
   },
   "outputs": [
    {
     "name": "stdout",
     "output_type": "stream",
     "text": [
      "{3, 4}\n",
      "{3, 4}\n",
      "{1, 2, 3, 4}\n"
     ]
    }
   ],
   "source": [
    "# Returns an intersection of two sets, can also use '&'\n",
    "# only takes similar elements from both sets\n",
    "\n",
    "s1 = {1,2,3,4}\n",
    "s2 = {3,4,5,6}\n",
    "\n",
    "s5 = s1.intersection(s2)\n",
    "print(s5)\n",
    "\n",
    "# OR\n",
    "\n",
    "s6 = s2 & s1\n",
    "print(s5)\n",
    "print(s1)"
   ]
  },
  {
   "cell_type": "markdown",
   "metadata": {},
   "source": [
    "##### .difference()"
   ]
  },
  {
   "cell_type": "code",
   "execution_count": null,
   "metadata": {},
   "outputs": [],
   "source": []
  },
  {
   "cell_type": "code",
   "execution_count": 214,
   "metadata": {},
   "outputs": [
    {
     "name": "stdout",
     "output_type": "stream",
     "text": [
      "{1, 2}\n",
      "{1, 2}\n",
      "{5, 6}\n"
     ]
    }
   ],
   "source": [
    "# Returns a set containing all the elements of invoking set that are not in the second set, can also use '-'\n",
    "# only takes values from the first set that are not in the second set\n",
    "# order matters\n",
    "\n",
    "s1 = {1,2,3,4}\n",
    "s2 = {3,4,5,6}\n",
    "\n",
    "s7 = s1.difference(s2)\n",
    "print(s7)\n",
    "\n",
    "s8 = s1 - s2\n",
    "print(s8)\n",
    "\n",
    "s9 = s2 - s1 # Order Matters\n",
    "print(s9)"
   ]
  },
  {
   "cell_type": "code",
   "execution_count": 215,
   "metadata": {},
   "outputs": [
    {
     "name": "stdout",
     "output_type": "stream",
     "text": [
      "[{'c', 'a', 'b'}, {1, 2, 3}]\n"
     ]
    }
   ],
   "source": [
    "# Lists can contain sets\n",
    "# Remember it is unordered\n",
    "\n",
    "list_of_sets = [{'a', 'b', 'c'}, {1,  2, 3}]\n",
    "print(list_of_sets)"
   ]
  },
  {
   "cell_type": "code",
   "execution_count": 216,
   "metadata": {},
   "outputs": [
    {
     "name": "stdout",
     "output_type": "stream",
     "text": [
      "{'a': {'a', 'b'}, 'b': {10, 20, 30}}\n",
      "<class 'dict'>\n",
      "<class 'set'>\n"
     ]
    }
   ],
   "source": [
    "# dictionary values can be sets\n",
    "\n",
    "d8 = {\n",
    "    'a': {'a', 'b'},\n",
    "    'b': {10, 20 ,30}\n",
    "}\n",
    "\n",
    "print(d8)\n",
    "print(type(d8))\n",
    "print(type(d8.get('a')))"
   ]
  },
  {
   "cell_type": "code",
   "execution_count": null,
   "metadata": {},
   "outputs": [],
   "source": []
  },
  {
   "cell_type": "code",
   "execution_count": null,
   "metadata": {},
   "outputs": [],
   "source": []
  },
  {
   "cell_type": "code",
   "execution_count": null,
   "metadata": {},
   "outputs": [],
   "source": []
  },
  {
   "cell_type": "code",
   "execution_count": null,
   "metadata": {},
   "outputs": [],
   "source": []
  },
  {
   "cell_type": "markdown",
   "metadata": {},
   "source": [
    "##### .clear()"
   ]
  },
  {
   "cell_type": "code",
   "execution_count": 217,
   "metadata": {
    "scrolled": true
   },
   "outputs": [
    {
     "name": "stdout",
     "output_type": "stream",
     "text": [
      "Help on method_descriptor:\n",
      "\n",
      "clear(...)\n",
      "    Remove all elements from this set.\n",
      "\n"
     ]
    }
   ],
   "source": [
    "# Empties the whole set\n",
    "# set.clear()\n",
    "\n",
    "help(set.clear)"
   ]
  },
  {
   "cell_type": "code",
   "execution_count": 219,
   "metadata": {},
   "outputs": [
    {
     "name": "stdout",
     "output_type": "stream",
     "text": [
      "{1, 2, 3, 34, 4, 5, 6425}\n",
      "set()\n"
     ]
    }
   ],
   "source": [
    "nums = {1,2,3,34,4,5,6425}\n",
    "\n",
    "print(nums)\n",
    "\n",
    "nums.clear()\n",
    "\n",
    "print(nums)"
   ]
  },
  {
   "cell_type": "markdown",
   "metadata": {},
   "source": [
    "##### Frozenset <br>\n",
    "<p>Frozen sets are immutable objects that only support methods and operators that produce a result without affecting the frozen set or sets to which they are applied.</p><br><b>Unique & Immutable</b>"
   ]
  },
  {
   "cell_type": "code",
   "execution_count": 220,
   "metadata": {},
   "outputs": [
    {
     "name": "stdout",
     "output_type": "stream",
     "text": [
      "frozenset({1, 2, 3, 4, 5, 6, 7})\n",
      "<class 'frozenset'>\n"
     ]
    }
   ],
   "source": [
    "# Frozen set is to set what tuple is to list\n",
    "# Inmutable set\n",
    "\n",
    "my_frozenset = frozenset(s3)\n",
    "print(my_frozenset)\n",
    "print(type(my_frozenset))\n"
   ]
  },
  {
   "cell_type": "code",
   "execution_count": null,
   "metadata": {},
   "outputs": [],
   "source": [
    "# frozenset([])\n"
   ]
  },
  {
   "cell_type": "code",
   "execution_count": 227,
   "metadata": {},
   "outputs": [
    {
     "name": "stdout",
     "output_type": "stream",
     "text": [
      "<class 'list'>\n",
      "<class 'set'>\n"
     ]
    }
   ],
   "source": [
    "# Set Comprehension - only difference form list comp is using {} instead of []\n",
    "\n",
    "list_of_10 = [x for x in range(1,11)]\n",
    "\n",
    "set_of_10 = {x for x in range(1,11)}\n",
    "\n",
    "print(type(list_of_10))\n",
    "print(type(set_of_10))"
   ]
  },
  {
   "cell_type": "code",
   "execution_count": null,
   "metadata": {},
   "outputs": [],
   "source": []
  },
  {
   "cell_type": "code",
   "execution_count": null,
   "metadata": {},
   "outputs": [],
   "source": []
  },
  {
   "cell_type": "code",
   "execution_count": null,
   "metadata": {},
   "outputs": [],
   "source": [
    "import time\n",
    "# generate fake set\n",
    "big_set = {i for i in range(10000000)}\n",
    "    \n",
    "\n",
    "# generate fake list\n",
    "big_list = [x for x in range(10000000)]"
   ]
  },
  {
   "cell_type": "code",
   "execution_count": null,
   "metadata": {},
   "outputs": [],
   "source": [
    "# tracking time for set\n",
    "start_time = time.time()\n",
    "\n",
    "print(9999999 in big_set)\n",
    "\n",
    "end_time = time.time()\n",
    "\n",
    "elapsed_time = end_time - start_time\n",
    "\n",
    "print(f'Elapsed time for set: {elapsed_time}')\n",
    "\n",
    "\n",
    "# tracking time for list\n",
    "start_time = time.time()\n",
    "\n",
    "print(9999999 in big_list)\n",
    "\n",
    "end_time = time.time()\n",
    "\n",
    "elapsed_time = end_time - start_time\n",
    "\n",
    "print(f'Elapsed time for list: {elapsed_time}')"
   ]
  },
  {
   "cell_type": "code",
   "execution_count": null,
   "metadata": {},
   "outputs": [],
   "source": []
  },
  {
   "cell_type": "markdown",
   "metadata": {},
   "source": [
    "# Exercises"
   ]
  },
  {
   "cell_type": "markdown",
   "metadata": {},
   "source": [
    "### 1) Create a program that allows a user to continue to add people to an address book until the user quits. Once the user quits, break out of the loop and print out the name and address of everyone in the address book"
   ]
  },
  {
   "cell_type": "markdown",
   "metadata": {},
   "source": [
    "###### Steps\n",
    "1. Create a function that will ask user for name and addresses and stores them in a dictionary\n",
    "2. Define an empty dictionary with which to work (global or local variable?)\n",
    "3. Begin a loop that will continue to ask a user for information until the user \"quits\"\n",
    "4. If the user does not quit, ask for a name and address and store the values into variables\n",
    "5. Add information to the dictionary with name as the key and address as the value\n",
    "6. If the user does quit, end the loop\n",
    "7. Print out the information from the dictionary in a formatted way\n",
    "8. Execute/Call the function"
   ]
  },
  {
   "cell_type": "code",
   "execution_count": null,
   "metadata": {},
   "outputs": [],
   "source": []
  },
  {
   "cell_type": "code",
   "execution_count": 400,
   "metadata": {},
   "outputs": [
    {
     "name": "stdout",
     "output_type": "stream",
     "text": [
      "Input name: c\n",
      "Input C's address: 4\n",
      "Input C's phone: g\n",
      "Add another one? y/n: y\n",
      "Input name: 5\n",
      "Input 5's address: r\n",
      "Input 5's phone: g\n",
      "Add another one? y/n: n\n",
      "\n",
      "You have successfully added 2 people to the address book:\n",
      "\n",
      "C: Address - 4 / Phone - g\n",
      "5: Address - R / Phone - g\n",
      "\n",
      "add, delete, quit: quit\n",
      "/nThank you for updating your address book!\n",
      "C: Address - 4 / Phone - g\n",
      "5: Address - R / Phone - g\n",
      "None\n"
     ]
    }
   ],
   "source": [
    "from IPython.display import clear_output\n",
    "\n",
    "\n",
    "address_book = {}\n",
    "\n",
    "def add_user():\n",
    "    while True:\n",
    "        \n",
    "        # Questions\n",
    "        name = input('Input name: ').title().strip()\n",
    "        address = input(f\"Input {name}'s address: \").title().strip()\n",
    "        phone = input(f\"Input {name}'s phone: \").strip(' -')\n",
    "        \n",
    "        # Append answers to the dict\n",
    "        address_book[name] = {\"address\":address, \"phone\": phone}\n",
    "        \n",
    "        # Continue\n",
    "        add_more = input(\"Add another one? y/n: \")\n",
    "        \n",
    "        # Break the loop\n",
    "        if add_more == 'n':\n",
    "            break\n",
    "     \n",
    "    # Print number of users\n",
    "    if len(address_book) == 1:\n",
    "        print(f'\\nYou have successfully added 1 person to the address book:\\n')\n",
    "    else:   \n",
    "        print(f'\\nYou have successfully added {len(address_book)} people to the address book:\\n')\n",
    "\n",
    "    # Formatted list of users added\n",
    "    print_address_book()\n",
    "    \n",
    "    # Options to edit users\n",
    "    edit_user()\n",
    "        \n",
    "def edit_user():\n",
    "    what_else = input(\"\\nadd, delete, quit: \").lower().strip()\n",
    "    \n",
    "    if what_else == 'add':\n",
    "        add_user()\n",
    "    elif what_else == 'delete':\n",
    "        del_user()\n",
    "        edit_user()\n",
    "    elif what_else == 'quit':\n",
    "        print(\"\\nThank you for updating your address book!\")\n",
    "        return print_address_book()\n",
    "    else:\n",
    "        print(\"select a valid option!\\n\")\n",
    "        edit_user()\n",
    "\n",
    "def del_user():\n",
    "    delete_user = input(\"what user would you like to delete? \").title().strip()\n",
    "    if delete_user in address_book:\n",
    "        del address_book[delete_user]\n",
    "        print(f'\\nYou have successfully deleted {delete_user} from the address book.\\n')\n",
    "        print(f'This is your address_book: \\n')\n",
    "        print_address_book()\n",
    "        edit_user()\n",
    "    else:\n",
    "        print(\"User not in the address book.\")\n",
    "        del_user()\n",
    "        \n",
    "def print_address_book():\n",
    "    for key,value in address_book.items():\n",
    "        print(f\"{key}: Address - {value['address']} / Phone - {value['phone']}\")\n",
    "        \n",
    "print(add_user())"
   ]
  },
  {
   "cell_type": "code",
   "execution_count": 337,
   "metadata": {},
   "outputs": [
    {
     "name": "stdout",
     "output_type": "stream",
     "text": [
      "\n",
      "add, delete, quit: quit\n",
      "Thank you for updating your address book!\n"
     ]
    }
   ],
   "source": [
    "def edit_user():\n",
    "    what_else = input(\"\\nadd, delete, quit: \").lower().strip()\n",
    "    \n",
    "    if what_else == 'add':\n",
    "        add_user()\n",
    "    elif what_else == 'delete':\n",
    "        del_user()\n",
    "        edit_user()\n",
    "    elif what_else == 'quit':\n",
    "        return \"Thank you for updating your address book!\"\n",
    "    else:\n",
    "        print(\"select a valid option!\\n\")\n",
    "        edit_user()\n",
    "        \n",
    "print(edit_user())"
   ]
  },
  {
   "cell_type": "code",
   "execution_count": 259,
   "metadata": {},
   "outputs": [
    {
     "name": "stdout",
     "output_type": "stream",
     "text": [
      "Carlos: Address - Here / Phone - 7\n",
      "Sarah: Address - There / Phone - 8\n"
     ]
    }
   ],
   "source": [
    "address_book = {'Carlos': {'address': 'Here', 'phone': 7}, 'Sarah': {'address': 'There', 'phone': 8}}\n",
    "\n",
    "for key,value in address_book.items():\n",
    "    print(f\"{key}: Address - {value['address']} / Phone - {value['phone']}\")"
   ]
  },
  {
   "cell_type": "code",
   "execution_count": 324,
   "metadata": {},
   "outputs": [
    {
     "name": "stdout",
     "output_type": "stream",
     "text": [
      "add, delete, quit: delete\n",
      "delete\n"
     ]
    }
   ],
   "source": [
    "what_else = input(\"add, delete, quit: \").lower().strip()\n",
    "print(what_else)"
   ]
  },
  {
   "cell_type": "code",
   "execution_count": 229,
   "metadata": {},
   "outputs": [
    {
     "name": "stdout",
     "output_type": "stream",
     "text": [
      "How are you feeling? stuck/ stupid / slow / frustrated. \n",
      "Enter, quit when you feel better!frustrated\n",
      "\u001b[H\u001b[2JIf we're uncomfortable it means we're growing.\n",
      "\u001b[H\u001b[2JHow are you feeling? stuck/ stupid / slow / frustrated. \n",
      "Enter, quit when you feel better!quit\n",
      "\u001b[H\u001b[2J"
     ]
    }
   ],
   "source": [
    "import os \n",
    "import time\n",
    "def clear_output():\n",
    "    os.system(\"cls\" if os.name == \"nt\" else 'clear')\n",
    "\n",
    "def motivate():\n",
    "    while True:\n",
    "        response = input('How are you feeling? stuck/ stupid / slow / frustrated. \\nEnter, quit when you feel better!').lower().strip()\n",
    "        clear_output()\n",
    "\n",
    "        if response == 'stuck':\n",
    "            print(\"\\nTake a break from your work until you feel ready to come back. \\n\")\n",
    "            time.sleep(2)\n",
    "            clear_output()\n",
    "        elif response == 'stupid':\n",
    "            print(\"\\nEveryone starts at a different place, and learns at a different pace.\\n\")\n",
    "            time.sleep(2)\n",
    "            clear_output()\n",
    "        elif response == 'slow':\n",
    "            print(\"\\nSpeed is relative.\")\n",
    "            time.sleep(2)\n",
    "            clear_output()\n",
    "        elif response == 'frustrated':\n",
    "            print(\"If we're uncomfortable it means we're growing.\")\n",
    "            time.sleep(2)\n",
    "            clear_output()\n",
    "        elif response == 'quit':\n",
    "            break\n",
    "        else:\n",
    "            print(\"Please try again, it's okay deep breaths.\")\n",
    "motivate()"
   ]
  },
  {
   "cell_type": "markdown",
   "metadata": {},
   "source": [
    "### 2) Best Time to Meet"
   ]
  },
  {
   "cell_type": "markdown",
   "metadata": {},
   "source": [
    "Billy is trying to figure out if there is a time that he and his team can meet to work on the project. His three teammates each give him a list of times they are available ('HH:MM' 24-hour). Create a function that will take in an original list plus any number of lists of teammate's available times (*remember \\*args*) and return a list/set/dict/tuple of times where everyone can meet."
   ]
  },
  {
   "cell_type": "code",
   "execution_count": 397,
   "metadata": {},
   "outputs": [
    {
     "name": "stdout",
     "output_type": "stream",
     "text": [
      "{'14:30', '12:00'}\n"
     ]
    }
   ],
   "source": [
    "person1 = ['09:00', '10:30', '11:30', '12:00', '13:00', '14:30']\n",
    "person2 = ['09:30', '10:00', '10:30', '12:00', '14:30', '16:00']\n",
    "person3 = ['09:00', '09:30', '11:00', '11:30', '12:00', '13:30', '14:30', '15:00']\n",
    "person4 = ['11:00', '11:30', '12:00', '14:00', '14:30', '16:30', '17:00']\n",
    "# person5 = ['12:00'] # to test with more arguments\n",
    "# Available Times: '12:00' and '14:30'\n",
    "\n",
    "def meeting(*args):\n",
    "    set1 = set(args[0])\n",
    "    for i in range(len(args)):\n",
    "        set1 = set1.intersection(set(args[i]))\n",
    "    return (set1)\n",
    "\n",
    "\n",
    "print(meeting(person1, person2, person3, person4))\n",
    "\n",
    "# set(person1).intersection(set(person2)).intersection(set(person3).intersection(set(person4)))\n",
    "# Probably convert to set and check intersection"
   ]
  },
  {
   "cell_type": "code",
   "execution_count": null,
   "metadata": {},
   "outputs": [],
   "source": [
    "return {set1 for set1.interserction(set(args[i])) in range(len(args))}"
   ]
  },
  {
   "cell_type": "code",
   "execution_count": null,
   "metadata": {},
   "outputs": [],
   "source": []
  }
 ],
 "metadata": {
  "kernelspec": {
   "display_name": "Python 3 (ipykernel)",
   "language": "python",
   "name": "python3"
  },
  "language_info": {
   "codemirror_mode": {
    "name": "ipython",
    "version": 3
   },
   "file_extension": ".py",
   "mimetype": "text/x-python",
   "name": "python",
   "nbconvert_exporter": "python",
   "pygments_lexer": "ipython3",
   "version": "3.10.9"
  }
 },
 "nbformat": 4,
 "nbformat_minor": 2
}
